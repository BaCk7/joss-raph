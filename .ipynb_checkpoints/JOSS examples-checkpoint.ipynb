{
 "cells": [
  {
   "cell_type": "markdown",
   "id": "01d92225-4fb3-428c-a22e-22a8c7392171",
   "metadata": {},
   "source": [
    "Example: find top 5 in pagerank in a layer, then check over time pagerank values."
   ]
  },
  {
   "cell_type": "markdown",
   "id": "ad6681db-8742-47cf-8113-7d9daf6f9538",
   "metadata": {},
   "source": [
    "# Enron (loading)"
   ]
  },
  {
   "cell_type": "code",
   "execution_count": 1,
   "id": "b4341fa9-3ed5-4726-a144-520d8fd3832e",
   "metadata": {},
   "outputs": [],
   "source": [
    "import re\n",
    "import pandas as pd\n",
    "import altair as alt\n",
    "import raphtory as rty\n",
    "#from raphtory import algorithms\n",
    "from email.utils import parsedate_to_datetime, parsedate\n",
    "from datetime import timezone, datetime\n",
    "from time import mktime"
   ]
  },
  {
   "cell_type": "markdown",
   "id": "a6927757-e2e3-4be3-ab3b-9e835348708b",
   "metadata": {},
   "source": [
    "## Ingesting the data"
   ]
  },
  {
   "cell_type": "code",
   "execution_count": 2,
   "id": "62ba3a85-9672-426b-8499-19862111c2d8",
   "metadata": {},
   "outputs": [],
   "source": [
    "csv = pd.read_csv('/data-restricted/home/cheick_ba/data_on_nas/raphtory/data/enrondata/archive.zip', compression=\"zip\")\n",
    "emails = csv['message']"
   ]
  },
  {
   "cell_type": "code",
   "execution_count": 3,
   "id": "d4053fb2-3310-46a3-9470-612146c61db9",
   "metadata": {},
   "outputs": [
    {
     "data": {
      "text/html": [
       "<div>\n",
       "<style scoped>\n",
       "    .dataframe tbody tr th:only-of-type {\n",
       "        vertical-align: middle;\n",
       "    }\n",
       "\n",
       "    .dataframe tbody tr th {\n",
       "        vertical-align: top;\n",
       "    }\n",
       "\n",
       "    .dataframe thead th {\n",
       "        text-align: right;\n",
       "    }\n",
       "</style>\n",
       "<table border=\"1\" class=\"dataframe\">\n",
       "  <thead>\n",
       "    <tr style=\"text-align: right;\">\n",
       "      <th></th>\n",
       "      <th>src</th>\n",
       "      <th>dst</th>\n",
       "      <th>time</th>\n",
       "      <th>type</th>\n",
       "      <th>message</th>\n",
       "    </tr>\n",
       "  </thead>\n",
       "  <tbody>\n",
       "    <tr>\n",
       "      <th>0</th>\n",
       "      <td>phillip.allen</td>\n",
       "      <td>tim.belden</td>\n",
       "      <td>Mon, 14 May 2001 16:39:00 -0700 (PDT)</td>\n",
       "      <td>direct</td>\n",
       "      <td>Message-ID: &lt;18782981.1075855378110.JavaMail.e...</td>\n",
       "    </tr>\n",
       "    <tr>\n",
       "      <th>1</th>\n",
       "      <td>phillip.allen</td>\n",
       "      <td>john.lavorato</td>\n",
       "      <td>Fri, 4 May 2001 13:51:00 -0700 (PDT)</td>\n",
       "      <td>direct</td>\n",
       "      <td>Message-ID: &lt;15464986.1075855378456.JavaMail.e...</td>\n",
       "    </tr>\n",
       "    <tr>\n",
       "      <th>2</th>\n",
       "      <td>phillip.allen</td>\n",
       "      <td>leah.arsdall</td>\n",
       "      <td>Wed, 18 Oct 2000 03:00:00 -0700 (PDT)</td>\n",
       "      <td>direct</td>\n",
       "      <td>Message-ID: &lt;24216240.1075855687451.JavaMail.e...</td>\n",
       "    </tr>\n",
       "    <tr>\n",
       "      <th>3</th>\n",
       "      <td>phillip.allen</td>\n",
       "      <td>randall.gay</td>\n",
       "      <td>Mon, 23 Oct 2000 06:13:00 -0700 (PDT)</td>\n",
       "      <td>direct</td>\n",
       "      <td>Message-ID: &lt;13505866.1075863688222.JavaMail.e...</td>\n",
       "    </tr>\n",
       "    <tr>\n",
       "      <th>4</th>\n",
       "      <td>phillip.allen</td>\n",
       "      <td>greg.piper</td>\n",
       "      <td>Thu, 31 Aug 2000 05:07:00 -0700 (PDT)</td>\n",
       "      <td>direct</td>\n",
       "      <td>Message-ID: &lt;30922949.1075863688243.JavaMail.e...</td>\n",
       "    </tr>\n",
       "    <tr>\n",
       "      <th>...</th>\n",
       "      <td>...</td>\n",
       "      <td>...</td>\n",
       "      <td>...</td>\n",
       "      <td>...</td>\n",
       "      <td>...</td>\n",
       "    </tr>\n",
       "    <tr>\n",
       "      <th>517323</th>\n",
       "      <td>john.zufferli</td>\n",
       "      <td>kimberly.hillis</td>\n",
       "      <td>Wed, 13 Jun 2001 07:19:27 -0700 (PDT)</td>\n",
       "      <td>bcc</td>\n",
       "      <td>Message-ID: &lt;15205398.1075842036502.JavaMail.e...</td>\n",
       "    </tr>\n",
       "    <tr>\n",
       "      <th>517335</th>\n",
       "      <td>john.zufferli</td>\n",
       "      <td>rob.milnthorp</td>\n",
       "      <td>Thu, 24 Jan 2002 14:00:42 -0800 (PST)</td>\n",
       "      <td>bcc</td>\n",
       "      <td>Message-ID: &lt;20351161.1075842028492.JavaMail.e...</td>\n",
       "    </tr>\n",
       "    <tr>\n",
       "      <th>517352</th>\n",
       "      <td>john.zufferli</td>\n",
       "      <td>rob.milnthorp</td>\n",
       "      <td>Fri, 18 Jan 2002 06:52:25 -0800 (PST)</td>\n",
       "      <td>bcc</td>\n",
       "      <td>Message-ID: &lt;12099366.1075842028905.JavaMail.e...</td>\n",
       "    </tr>\n",
       "    <tr>\n",
       "      <th>517371</th>\n",
       "      <td>john.zufferli</td>\n",
       "      <td>jzufferli</td>\n",
       "      <td>Mon, 7 Jan 2002 13:01:08 -0800 (PST)</td>\n",
       "      <td>bcc</td>\n",
       "      <td>Message-ID: &lt;537849.1075842029343.JavaMail.eva...</td>\n",
       "    </tr>\n",
       "    <tr>\n",
       "      <th>517375</th>\n",
       "      <td>john.zufferli</td>\n",
       "      <td>katrina</td>\n",
       "      <td>Fri, 21 Dec 2001 12:34:51 -0800 (PST)</td>\n",
       "      <td>bcc</td>\n",
       "      <td>Message-ID: &lt;11108760.1075842029437.JavaMail.e...</td>\n",
       "    </tr>\n",
       "  </tbody>\n",
       "</table>\n",
       "<p>1654756 rows × 5 columns</p>\n",
       "</div>"
      ],
      "text/plain": [
       "                  src              dst                                   time  \\\n",
       "0       phillip.allen       tim.belden  Mon, 14 May 2001 16:39:00 -0700 (PDT)   \n",
       "1       phillip.allen    john.lavorato   Fri, 4 May 2001 13:51:00 -0700 (PDT)   \n",
       "2       phillip.allen     leah.arsdall  Wed, 18 Oct 2000 03:00:00 -0700 (PDT)   \n",
       "3       phillip.allen      randall.gay  Mon, 23 Oct 2000 06:13:00 -0700 (PDT)   \n",
       "4       phillip.allen       greg.piper  Thu, 31 Aug 2000 05:07:00 -0700 (PDT)   \n",
       "...               ...              ...                                    ...   \n",
       "517323  john.zufferli  kimberly.hillis  Wed, 13 Jun 2001 07:19:27 -0700 (PDT)   \n",
       "517335  john.zufferli    rob.milnthorp  Thu, 24 Jan 2002 14:00:42 -0800 (PST)   \n",
       "517352  john.zufferli    rob.milnthorp  Fri, 18 Jan 2002 06:52:25 -0800 (PST)   \n",
       "517371  john.zufferli        jzufferli   Mon, 7 Jan 2002 13:01:08 -0800 (PST)   \n",
       "517375  john.zufferli          katrina  Fri, 21 Dec 2001 12:34:51 -0800 (PST)   \n",
       "\n",
       "          type                                            message  \n",
       "0       direct  Message-ID: <18782981.1075855378110.JavaMail.e...  \n",
       "1       direct  Message-ID: <15464986.1075855378456.JavaMail.e...  \n",
       "2       direct  Message-ID: <24216240.1075855687451.JavaMail.e...  \n",
       "3       direct  Message-ID: <13505866.1075863688222.JavaMail.e...  \n",
       "4       direct  Message-ID: <30922949.1075863688243.JavaMail.e...  \n",
       "...        ...                                                ...  \n",
       "517323     bcc  Message-ID: <15205398.1075842036502.JavaMail.e...  \n",
       "517335     bcc  Message-ID: <20351161.1075842028492.JavaMail.e...  \n",
       "517352     bcc  Message-ID: <12099366.1075842028905.JavaMail.e...  \n",
       "517371     bcc  Message-ID: <537849.1075842029343.JavaMail.eva...  \n",
       "517375     bcc  Message-ID: <11108760.1075842029437.JavaMail.e...  \n",
       "\n",
       "[1654756 rows x 5 columns]"
      ]
     },
     "execution_count": 3,
     "metadata": {},
     "output_type": "execute_result"
    }
   ],
   "source": [
    "def extract_cc_list(text):\n",
    "    cc_cut = text.split(\"Cc: \")\n",
    "    \n",
    "    if len(cc_cut) > 1:\n",
    "        cc_section = cc_cut[1].split(\":\")[0]\n",
    "        cc_emails = re.findall(r'\\S+@\\S+', cc_section)\n",
    "        return list(map(lambda email: email.split('@')[0], cc_emails))\n",
    "    else:\n",
    "        return \n",
    "\n",
    "def extract_bcc_list(text):\n",
    "    bcc_cut = text.split(\"Bcc: \")\n",
    "\n",
    "    if len(bcc_cut) > 1:\n",
    "        bcc_section = bcc_cut[1].split(\":\")[0]\n",
    "        bcc_emails = re.findall(r'\\S+@\\S+', bcc_section)\n",
    "        return list(map(lambda email: email.split('@')[0], bcc_emails))\n",
    "    else:\n",
    "        return\n",
    "\n",
    "extract_sender = lambda text: text.split(\"From: \")[1].split(\"@\")[0]\n",
    "extract_recipient = lambda text: text.split(\"To: \")[1].split(\"@\")[0]\n",
    "extract_date = lambda text: text.split(\"Date: \")[1].split(\"\\n\")[0]\n",
    "\n",
    "enron = pd.DataFrame()\n",
    "enron['src'] = emails.apply(extract_sender)\n",
    "enron['dst'] = emails.apply(extract_recipient)\n",
    "enron['time'] = emails.apply(extract_date)\n",
    "enron['type'] = 'direct'\n",
    "enron['message'] = emails\n",
    "\n",
    "enron_cc = enron.loc[:, ['src', 'time', 'message']]\n",
    "enron_cc['dst'] = emails.apply(extract_cc_list)     \n",
    "enron_cc = enron_cc.explode('dst').dropna()\n",
    "enron_cc['type'] = 'cc'\n",
    "\n",
    "enron_bcc = enron.loc[:, ['src', 'time', 'message']]\n",
    "enron_bcc['dst'] = emails.apply(extract_bcc_list)     \n",
    "enron_bcc = enron_bcc.explode('dst').dropna()\n",
    "enron_bcc['type'] = 'bcc'\n",
    "\n",
    "enron = pd.concat([enron, enron_cc, enron_bcc])\n",
    "enron"
   ]
  },
  {
   "cell_type": "raw",
   "id": "4a26b944-eb22-447f-8dc7-0f2a1efc4a74",
   "metadata": {},
   "source": [
    "raw_graph = rty.Graph()\n",
    "\n",
    "def ingest_edge(record):\n",
    "    raw_graph.add_edge(timestamp = record['time'], src=record['src'], dst=record['dst'], properties={'message': record['message']}, layer=record['type'])\n",
    "\n",
    "enron.apply(ingest_edge, axis=1)\n",
    "\n",
    "g = raw_graph.window(start='2000-01-01 00:00:00', end='2003-01-01 00:00:00')\n",
    "g\n",
    "\n",
    "# we can make parameters explicit"
   ]
  },
  {
   "cell_type": "markdown",
   "id": "306e4abf-2311-4c55-9efb-80aae50b0b86",
   "metadata": {
    "tags": []
   },
   "source": [
    "# This is slower, but more clear imho"
   ]
  },
  {
   "cell_type": "code",
   "execution_count": 4,
   "id": "9184b27e-0d85-4a10-9b7e-12e9e848e220",
   "metadata": {},
   "outputs": [
    {
     "data": {
      "text/plain": [
       "Graph(number_of_edges=156543, number_of_vertices=52864, earliest_time=946684800000, latest_time=1041379200000)"
      ]
     },
     "execution_count": 4,
     "metadata": {},
     "output_type": "execute_result"
    }
   ],
   "source": [
    "raw_graph = rty.Graph()\n",
    "\n",
    "for idx, record in enron.iterrows():\n",
    "    raw_graph.add_edge(timestamp = record['time'], src=record['src'], dst=record['dst'], \n",
    "                       properties={'message': record['message']}, layer=record['type'])\n",
    "    \n",
    "g = raw_graph.window(start='2000-01-01 00:00:00', end='2003-01-01 00:00:00')\n",
    "print(g)\n",
    "\n",
    "# we can make parameters explicit"
   ]
  },
  {
   "cell_type": "code",
   "execution_count": 5,
   "id": "6c60c1a5-f649-4fc3-83b0-cbeb407d19df",
   "metadata": {},
   "outputs": [
    {
     "name": "stdout",
     "output_type": "stream",
     "text": [
      "Edge(source=phillip.allen, target=tim.belden, earliest_time=947500140000, latest_time=989883540000, properties={message : Message-ID: <12792381.1075858637829.JavaMail.evans@thyme>\n",
      "Date: Mon, 14 May 2001 16:39:00 -0700 (PDT)\n",
      "From: phillip.allen@enron.com\n",
      "To: tim.belden@enron.com\n",
      "Subject: \n",
      "Mime-Version: 1.0\n",
      "Content-Type: text/plain; charset=us-ascii\n",
      "Content-Transfer-Encoding: 7bit\n",
      "X-From: Phillip K Allen\n",
      "X-To: Tim Belden <Tim Belden/Enron@EnronXGate>\n",
      "X-cc: \n",
      "X-bcc: \n",
      "X-Folder: \\PALLEN (Non-Privileged)\\Allen, Phillip K.\\Sent Items\n",
      "X-Origin: Allen-P\n",
      "X-FileName: PALLEN (Non-Privileged).pst\n",
      "\n",
      "Here is our forecast\n",
      "\n",
      " })\n"
     ]
    }
   ],
   "source": [
    "for e in g.edges():\n",
    "    print(e)\n",
    "    break"
   ]
  },
  {
   "cell_type": "code",
   "execution_count": 6,
   "id": "fa53975a-335a-45d9-92d7-96593aaac078",
   "metadata": {},
   "outputs": [
    {
     "data": {
      "text/plain": [
       "(Edge(source=phillip.allen, target=tim.belden, earliest_time=947500140000, latest_time=989883540000, properties={message : Message-ID: <12792381.1075858637829.JavaMail.evans@thyme>\n",
       " Date: Mon, 14 May 2001 16:39:00 -0700 (PDT)\n",
       " From: phillip.allen@enron.com\n",
       " To: tim.belden@enron.com\n",
       " Subject: \n",
       " Mime-Version: 1.0\n",
       " Content-Type: text/plain; charset=us-ascii\n",
       " Content-Transfer-Encoding: 7bit\n",
       " X-From: Phillip K Allen\n",
       " X-To: Tim Belden <Tim Belden/Enron@EnronXGate>\n",
       " X-cc: \n",
       " X-bcc: \n",
       " X-Folder: \\PALLEN (Non-Privileged)\\Allen, Phillip K.\\Sent Items\n",
       " X-Origin: Allen-P\n",
       " X-FileName: PALLEN (Non-Privileged).pst\n",
       " \n",
       " Here is our forecast\n",
       " \n",
       "  }),\n",
       " dict_keys(['message']))"
      ]
     },
     "execution_count": 6,
     "metadata": {},
     "output_type": "execute_result"
    }
   ],
   "source": [
    "e, e.properties().keys()"
   ]
  },
  {
   "cell_type": "code",
   "execution_count": 7,
   "id": "315ee61f-1d5f-4780-826f-af12ecccf82b",
   "metadata": {},
   "outputs": [
    {
     "data": {
      "text/plain": [
       "{'_id': 'phillip.allen'}"
      ]
     },
     "execution_count": 7,
     "metadata": {},
     "output_type": "execute_result"
    }
   ],
   "source": [
    "e.src().properties()"
   ]
  },
  {
   "cell_type": "markdown",
   "id": "a7fe4089-24a7-4f74-9744-e8e95ba92503",
   "metadata": {},
   "source": [
    "# Luna"
   ]
  },
  {
   "cell_type": "code",
   "execution_count": 8,
   "id": "a5cf5956-a10f-4538-aaa0-17276b065fd5",
   "metadata": {},
   "outputs": [],
   "source": [
    "import seaborn as sns\n",
    "import matplotlib.pyplot as plt\n",
    "import raphtory as rty"
   ]
  },
  {
   "cell_type": "code",
   "execution_count": 9,
   "id": "ecd38cf1-7441-4086-8824-e2bfdd199093",
   "metadata": {},
   "outputs": [],
   "source": [
    "def get_top_k_nodes(metric_dict, k = 5):\n",
    "    return dict(sorted(pg.items(), key=lambda x: x[1], reverse=True)[:5])"
   ]
  },
  {
   "cell_type": "code",
   "execution_count": 17,
   "id": "8df33757-5bb2-4f59-957b-79d6b3a2a8c0",
   "metadata": {},
   "outputs": [],
   "source": [
    "def plotting_function(metric_list, x, y, hue):\n",
    "    df = pd.DataFrame(metric_list, columns=[x, y, hue])\n",
    "    plt.figure(figsize=(12,8))\n",
    "    sns.lineplot(data=df, x=\"Time\", y=\"PageRank\", hue=\"node\")"
   ]
  },
  {
   "cell_type": "code",
   "execution_count": 14,
   "id": "eb7b68d3-d9ea-4048-8bc0-2f1166523f72",
   "metadata": {},
   "outputs": [],
   "source": [
    "order_formatter = lambda n: \"%d%s\"%(n,{1:\"st\",2:\"nd\",3:\"rd\"}.get(n%100 if n%100<20 else n%10,\"th\"))"
   ]
  },
  {
   "cell_type": "code",
   "execution_count": 18,
   "id": "60e64ba0-e240-4c21-84ad-838629a26925",
   "metadata": {
    "tags": []
   },
   "outputs": [],
   "source": [
    "metric_list = []"
   ]
  },
  {
   "cell_type": "code",
   "execution_count": 18,
   "id": "d44c51c5-ef95-4dce-ba9e-99242cb63f44",
   "metadata": {
    "tags": []
   },
   "outputs": [
    {
     "name": "stdout",
     "output_type": "stream",
     "text": [
      "loading from \"/data-restricted/home/cheick_ba/data_on_nas/raphtory/data/stablecoin_test/graphdb.bincode\"\n",
      "Loaded graph with 1 shards from encoded data files /data-restricted/home/cheick_ba/data_on_nas/raphtory/data/stablecoin_test/graphdb.bincode with 1523333 vertices, 2814155 edges which took 8 seconds\n"
     ]
    },
    {
     "data": {
      "image/png": "[encoded data removed]",
      "text/plain": [
       "<Figure size 1200x800 with 1 Axes>"
      ]
     },
     "metadata": {},
     "output_type": "display_data"
    }
   ],
   "source": [
    "g = rty.graph_loader.stable_coin_graph(\"/data-restricted/home/cheick_ba/data_on_nas/raphtory/data/stablecoin_test/\", subset=True)\n",
    "layer_graph = g.layer(\"LUNC\")\n",
    "pg = rty.algorithms.pagerank(g = layer_graph, iter_count=10)\n",
    "top_5_nodes = get_top_k_nodes(metric_dict = pg, k = 5)\n",
    "\n",
    "graph_views = layer_graph.rolling(window='1 day', step = \"1 day\") \n",
    "for viewG in graph_views:\n",
    "    time = viewG.end_date_time()\n",
    "    values = dict(rty.algorithms.pagerank(g=viewG, iter_count = 10))\n",
    "    for i,n in enumerate(top_5_nodes):\n",
    "        metric_list.append( (time, values[n], f\"{order_formatter(i+1)} node\" ) ) \n",
    "\n",
    "plotting_function(metric_list, x=\"Time\", y=\"PageRank\", hue=\"node\")"
   ]
  },
  {
   "cell_type": "markdown",
   "id": "f719c523-a003-4c88-92a3-69af4e4412ca",
   "metadata": {},
   "source": [
    "# Temporal motifs example"
   ]
  },
  {
   "cell_type": "code",
   "execution_count": null,
   "id": "9974ea35-a917-410d-8890-70653faa3d1f",
   "metadata": {},
   "outputs": [],
   "source": []
  },
  {
   "cell_type": "code",
   "execution_count": null,
   "id": "9d883800-600e-4fa2-8c24-a406068c33ea",
   "metadata": {},
   "outputs": [],
   "source": []
  },
  {
   "cell_type": "code",
   "execution_count": null,
   "id": "8f6ec0d1-8afa-49b1-aff2-4d2703115db9",
   "metadata": {},
   "outputs": [],
   "source": []
  },
  {
   "cell_type": "code",
   "execution_count": null,
   "id": "3ba17dd9-8191-407a-a421-2e5c630e7617",
   "metadata": {},
   "outputs": [],
   "source": []
  },
  {
   "cell_type": "code",
   "execution_count": null,
   "id": "a60e53c7-5c5c-4ec1-8068-de2219a2b991",
   "metadata": {},
   "outputs": [],
   "source": []
  },
  {
   "cell_type": "code",
   "execution_count": 70,
   "id": "948f0187-443a-43db-89a4-cbfe7e7338db",
   "metadata": {},
   "outputs": [
    {
     "name": "stdout",
     "output_type": "stream",
     "text": [
      "Number of graph views 57\n",
      "If we consider layers, total number of rows should be 912\n"
     ]
    },
    {
     "name": "stderr",
     "output_type": "stream",
     "text": [
      "100%|██████████| 57/57 [10:13<00:00, 10.76s/it]\n"
     ]
    }
   ],
   "source": [
    "graph_views = G.rolling(window='1 month', step = \"1 month\")\n",
    "\n",
    "metric_func = algorithms.pagerank\n",
    "metric_list = []\n",
    "\n",
    "total = sum([ 1 for w in graph_views])\n",
    "print(\"Number of graph views\", total )\n",
    "print(\"If we consider layers, total number of rows should be\", sum([ 1 for w in graph_views]) * len(all_layers))\n",
    "\n",
    "for viewG in tqdm(graph_views, total=total) :\n",
    "    time = viewG.end_date_time()\n",
    "    \n",
    "    for l in all_layers:\n",
    "        viewG_l = viewG.layer(l)\n",
    "        metric_val = metric_func(viewG_l)\n",
    "        metric_rolling.append( (time, metric_val,l) )        "
   ]
  },
  {
   "cell_type": "code",
   "execution_count": null,
   "id": "e111f74a-53fe-422c-966d-3af339c10e76",
   "metadata": {},
   "outputs": [],
   "source": []
  },
  {
   "cell_type": "code",
   "execution_count": null,
   "id": "f93e066c-3149-4c3e-b7de-ef40597d26a4",
   "metadata": {},
   "outputs": [],
   "source": []
  },
  {
   "cell_type": "code",
   "execution_count": null,
   "id": "9326f2f1-8d99-4bdc-b69f-8dc8ded12a1b",
   "metadata": {},
   "outputs": [],
   "source": []
  },
  {
   "cell_type": "code",
   "execution_count": null,
   "id": "945843fa-94a7-41dc-aa5f-d4fe5cbba941",
   "metadata": {},
   "outputs": [],
   "source": []
  },
  {
   "cell_type": "code",
   "execution_count": 9,
   "id": "3ab99b65-9f3f-4441-b358-edb0182d0ded",
   "metadata": {},
   "outputs": [
    {
     "name": "stdout",
     "output_type": "stream",
     "text": [
      "Contract address Dai has 0x28c6c06298d514db089934071355e5743bf21d60? True\n",
      "Contract address LUNC has 0x28c6c06298d514db089934071355e5743bf21d60? True\n",
      "Contract address USTC has 0x28c6c06298d514db089934071355e5743bf21d60? True\n",
      "Contract address USD has 0x28c6c06298d514db089934071355e5743bf21d60? True\n",
      "Contract address USDP has 0x28c6c06298d514db089934071355e5743bf21d60? True\n",
      "Contract address USDT has 0x28c6c06298d514db089934071355e5743bf21d60? True\n"
     ]
    }
   ],
   "source": [
    "for l in all_layers:\n",
    "    print(\"Contract address {} has 0x28c6c06298d514db089934071355e5743bf21d60? {}\".format(l, g.layer(l).has_vertex(\"0x28c6c06298d514db089934071355e5743bf21d60\")))"
   ]
  },
  {
   "cell_type": "code",
   "execution_count": 10,
   "id": "94b714a5-53e3-4cf0-bf9d-cd0493fee031",
   "metadata": {},
   "outputs": [
    {
     "name": "stdout",
     "output_type": "stream",
     "text": [
      "Contract address Dai has 0x74de5d4fcbf63e00296fd95d33236b9794016631? True\n",
      "Contract address LUNC has 0x74de5d4fcbf63e00296fd95d33236b9794016631? True\n",
      "Contract address USTC has 0x74de5d4fcbf63e00296fd95d33236b9794016631? True\n",
      "Contract address USD has 0x74de5d4fcbf63e00296fd95d33236b9794016631? True\n",
      "Contract address USDP has 0x74de5d4fcbf63e00296fd95d33236b9794016631? True\n",
      "Contract address USDT has 0x74de5d4fcbf63e00296fd95d33236b9794016631? True\n"
     ]
    }
   ],
   "source": [
    "for l in all_layers:\n",
    "    print(\"Contract address {} has 0x74de5d4fcbf63e00296fd95d33236b9794016631? {}\".format(l, g.layer(l).has_vertex(\"0x74de5d4fcbf63e00296fd95d33236b9794016631\")))"
   ]
  },
  {
   "cell_type": "code",
   "execution_count": 11,
   "id": "41e82eb4-6415-41d4-aca4-0148aff57e6a",
   "metadata": {},
   "outputs": [
    {
     "name": "stdout",
     "output_type": "stream",
     "text": [
      "Done running iterations: 1\n",
      "Important people from contract address Dai: [('0x503828976d22510aad0201ac7ec88293211d23da', 0.0021117792682171037), ('0x28c6c06298d514db089934071355e5743bf21d60', 0.002109268326748625), ('0x74de5d4fcbf63e00296fd95d33236b9794016631', 0.001314686215381458), ('0x60594a405d53811d3bc4766596efd80fd545a270', 0.0009343411267338441), ('0x5777d92f208679db4b9778590fa3cab3ac9e2168', 0.0007376593290049379), ('0xa12431d0b9db640034b0cdfceef9cce161e62be4', 0.0005977745605573248), ('0x0000000000000000000000000000000000000000', 0.0005557580661770019), ('0x2faf487a4414fe77e2327f0bf4ae2a264a776ad2', 0.0004938959820280982), ('0xa478c2975ab1ea89e8196811f51a7b7ade33eb11', 0.00046649946263294117), ('0x66c57bf505a85a74609d2c83e94aabb26d691e1f', 0.0004587428014694163)]\n",
      "\n",
      "Done running iterations: 1\n",
      "Important people from contract address LUNC: [('0x77696bb39917c91a0c3908d577d5e322095425ca', 0.0021130216887443654), ('0x0000000000000000000000000000000000000000', 0.001041933171094226), ('0x74de5d4fcbf63e00296fd95d33236b9794016631', 0.0009952032977101702), ('0x60a39010e4892b862d1bb6bdde908215ac5af6f3', 0.0009703389032042695), ('0x16b70f44719b227278a2dc1122e8106cc929ecd1', 0.0007894346632030009), ('0x5f65f7b609678448494de4c87521cdf6cef1e932', 0.0004074223890533412), ('0x738cf6903e6c4e699d1c2dd9ab8b67fcdb3121ea', 0.00040379547359887407), ('0xf16e9b0d03470827a95cdfd0cb8a8a3b46969b91', 0.00019466230111141183), ('0x88172e5d79fe75c7aed1453e89ff5d741cfa4ca7', 0.00018847376717284398), ('0xdcad279e517d7be07934ff85949fd6598758ce0b', 0.0001239046866776076)]\n",
      "\n",
      "Done running iterations: 1\n",
      "Important people from contract address USTC: [('0xeb2629a2734e272bcc07bda959863f316f4bd4cf', 0.0022450595237130475), ('0x28c6c06298d514db089934071355e5743bf21d60', 0.0013191731066699017), ('0x0000000000000000000000000000000000000000', 0.0011553326452446618), ('0x74de5d4fcbf63e00296fd95d33236b9794016631', 0.0004312046868643483), ('0x5f65f7b609678448494de4c87521cdf6cef1e932', 0.00032037638920894164), ('0x8b00ee8606cc70c2dce68dea0cefe632cca0fb7b', 0.00027140087491967716), ('0x2faf487a4414fe77e2327f0bf4ae2a264a776ad2', 0.00023221444431573967), ('0xf39c29d8f6851d87c40c83b61078eb7384f7cb51', 0.00019561715105894973), ('0x738cf6903e6c4e699d1c2dd9ab8b67fcdb3121ea', 0.00018673850438665033), ('0xf16e9b0d03470827a95cdfd0cb8a8a3b46969b91', 0.00017224334128381613)]\n",
      "\n",
      "Done running iterations: 1\n",
      "Important people from contract address USD: [('0x28c6c06298d514db089934071355e5743bf21d60', 0.03564386220211256), ('0x71660c4005ba85c37ccec55d0c4493e66fe775d3', 0.01921254026398727), ('0x503828976d22510aad0201ac7ec88293211d23da', 0.01773266574021133), ('0x738cf6903e6c4e699d1c2dd9ab8b67fcdb3121ea', 0.007082460985215183), ('0x88e6a0c2ddd26feeb64f039a2c41296fcb3f5640', 0.006850283216571598), ('0x2faf487a4414fe77e2327f0bf4ae2a264a776ad2', 0.006687485906602152), ('0x74de5d4fcbf63e00296fd95d33236b9794016631', 0.006275005411829463), ('0x4f6742badb049791cd9a37ea913f2bac38d01279', 0.004920062106290066), ('0xae2d4617c862309a3d75a0ffb358c7a5009c673f', 0.0047087843345446105), ('0xa12431d0b9db640034b0cdfceef9cce161e62be4', 0.004427080597978865)]\n",
      "\n",
      "Done running iterations: 1\n",
      "Important people from contract address USDP: [('0xa12431d0b9db640034b0cdfceef9cce161e62be4', 0.00012062275256964756), ('0xc88f7666330b4b511358b7742dc2a3234710e7b1', 0.00010551060484270038), ('0x0d0707963952f2fba59dd06f2b425ace40b492fe', 0.00010499911676578832), ('0x28c6c06298d514db089934071355e5743bf21d60', 8.184265655649742e-05), ('0x286af5cf60ae834199949bbc815485f07cc9c644', 7.040392320010067e-05), ('0x2faf487a4414fe77e2327f0bf4ae2a264a776ad2', 6.538204026314605e-05), ('0x3cd751e6b0078be393132286c442345e5dc49699', 5.589626138223171e-05), ('0xffec0067f5a79cff07527f63d83dd5462ccf8ba4', 4.473652152233241e-05), ('0x4f6742badb049791cd9a37ea913f2bac38d01279', 4.473652152233241e-05), ('0x2a549b4af9ec39b03142da6dc32221fc390b5533', 1.6279184879589104e-05)]\n",
      "\n",
      "Done running iterations: 1\n",
      "Important people from contract address USDT: [('0x28c6c06298d514db089934071355e5743bf21d60', 0.036015525803693466), ('0x0d0707963952f2fba59dd06f2b425ace40b492fe', 0.026893736419400415), ('0x3cd751e6b0078be393132286c442345e5dc49699', 0.018223618274300354), ('0xb5d85cbf7cb3ee0d56b3bb207d5fc4b82f43f511', 0.018210376045300986), ('0xec30d02f10353f8efc9601371f56e808751f396f', 0.013076060682316969), ('0x88bd4d3e2997371bceefe8d9386c6b5b4de60346', 0.013052264552234282), ('0x2faf487a4414fe77e2327f0bf4ae2a264a776ad2', 0.007875877341863435), ('0x5041ed759dd4afc3a72b8192c143f72f4724081a', 0.007553605174484788), ('0xf60c2ea62edbfe808163751dd0d8693dcb30019c', 0.006218039900447225), ('0x74de5d4fcbf63e00296fd95d33236b9794016631', 0.005306518391712734)]\n",
      "\n"
     ]
    }
   ],
   "source": [
    "for l in all_layers:\n",
    "    pg = algorithms.pagerank(g.layer(l), 20)\n",
    "    sorted_pg = dict(sorted(pg.items(), key=lambda x: x[1], reverse=True))\n",
    "    print(\"Important people from contract address {}: {}\".format(l, list(sorted_pg.items())[:10]))\n",
    "    print()"
   ]
  },
  {
   "cell_type": "code",
   "execution_count": 12,
   "id": "25e6a1d6-7ff8-4478-b5f3-33d2734271bf",
   "metadata": {},
   "outputs": [],
   "source": [
    "luna = g.layer(\"LUNC\")"
   ]
  },
  {
   "cell_type": "code",
   "execution_count": 13,
   "id": "9320c7d3-21dd-4233-b231-79b3225092ca",
   "metadata": {},
   "outputs": [
    {
     "name": "stdout",
     "output_type": "stream",
     "text": [
      "Done running iterations: 1\n"
     ]
    }
   ],
   "source": [
    "pg = algorithms.pagerank(luna, 20)"
   ]
  },
  {
   "cell_type": "code",
   "execution_count": 14,
   "id": "888b8c05-60e0-4311-911f-0710bf58de1c",
   "metadata": {},
   "outputs": [
    {
     "data": {
      "text/plain": [
       "0.001041933171094226"
      ]
     },
     "execution_count": 14,
     "metadata": {},
     "output_type": "execute_result"
    }
   ],
   "source": [
    "pg[\"0x0000000000000000000000000000000000000000\"]"
   ]
  },
  {
   "cell_type": "code",
   "execution_count": 15,
   "id": "95ee3f6e-445f-43fa-8616-01819a9f3cd4",
   "metadata": {},
   "outputs": [
    {
     "name": "stdout",
     "output_type": "stream",
     "text": [
      "dt_time 2022-04-28 02:30:15, Date 2022-04-28 00:30:15, Contract address Dai has 4691 transactions\n",
      "dt_time 2022-04-29 02:30:15, Date 2022-04-29 00:30:15, Contract address Dai has 5237 transactions\n",
      "dt_time 2022-04-30 02:30:15, Date 2022-04-30 00:30:15, Contract address Dai has 4828 transactions\n",
      "dt_time 2022-05-01 02:30:15, Date 2022-05-01 00:30:15, Contract address Dai has 4266 transactions\n",
      "dt_time 2022-05-02 02:30:15, Date 2022-05-02 00:30:15, Contract address Dai has 4504 transactions\n",
      "dt_time 2022-05-03 02:30:15, Date 2022-05-03 00:30:15, Contract address Dai has 4354 transactions\n",
      "dt_time 2022-05-04 02:30:15, Date 2022-05-04 00:30:15, Contract address Dai has 5202 transactions\n",
      "dt_time 2022-05-05 02:30:15, Date 2022-05-05 00:30:15, Contract address Dai has 5336 transactions\n",
      "dt_time 2022-05-06 02:30:15, Date 2022-05-06 00:30:15, Contract address Dai has 5475 transactions\n",
      "dt_time 2022-05-07 02:30:15, Date 2022-05-07 00:30:15, Contract address Dai has 5263 transactions\n",
      "dt_time 2022-05-08 02:30:15, Date 2022-05-08 00:30:15, Contract address Dai has 6584 transactions\n",
      "dt_time 2022-05-09 02:30:15, Date 2022-05-09 00:30:15, Contract address Dai has 9524 transactions\n",
      "dt_time 2022-05-10 02:30:15, Date 2022-05-10 00:30:15, Contract address Dai has 7942 transactions\n",
      "dt_time 2022-05-11 02:30:15, Date 2022-05-11 00:30:15, Contract address Dai has 10497 transactions\n",
      "dt_time 2022-05-12 02:30:15, Date 2022-05-12 00:30:15, Contract address Dai has 14508 transactions\n",
      "dt_time 2022-05-13 02:30:15, Date 2022-05-13 00:30:15, Contract address Dai has 8632 transactions\n",
      "dt_time 2022-05-14 02:30:15, Date 2022-05-14 00:30:15, Contract address Dai has 6797 transactions\n",
      "dt_time 2022-05-15 02:30:15, Date 2022-05-15 00:30:15, Contract address Dai has 6723 transactions\n",
      "dt_time 2022-05-16 02:30:15, Date 2022-05-16 00:30:15, Contract address Dai has 6913 transactions\n",
      "dt_time 2022-05-17 02:30:15, Date 2022-05-17 00:30:15, Contract address Dai has 5758 transactions\n",
      "dt_time 2022-05-18 02:30:15, Date 2022-05-18 00:30:15, Contract address Dai has 6190 transactions\n",
      "dt_time 2022-05-19 02:30:15, Date 2022-05-19 00:30:15, Contract address Dai has 6066 transactions\n",
      "dt_time 2022-05-20 02:30:15, Date 2022-05-20 00:30:15, Contract address Dai has 5728 transactions\n",
      "dt_time 2022-05-21 02:30:15, Date 2022-05-21 00:30:15, Contract address Dai has 4405 transactions\n",
      "dt_time 2022-05-22 02:30:15, Date 2022-05-22 00:30:15, Contract address Dai has 4446 transactions\n",
      "dt_time 2022-05-23 02:30:15, Date 2022-05-23 00:30:15, Contract address Dai has 5349 transactions\n",
      "dt_time 2022-05-24 02:30:15, Date 2022-05-24 00:30:15, Contract address Dai has 4937 transactions\n",
      "dt_time 2022-04-28 02:30:15, Date 2022-04-28 00:30:15, Contract address LUNC has 199 transactions\n",
      "dt_time 2022-04-29 02:30:15, Date 2022-04-29 00:30:15, Contract address LUNC has 264 transactions\n",
      "dt_time 2022-04-30 02:30:15, Date 2022-04-30 00:30:15, Contract address LUNC has 235 transactions\n",
      "dt_time 2022-05-01 02:30:15, Date 2022-05-01 00:30:15, Contract address LUNC has 206 transactions\n",
      "dt_time 2022-05-02 02:30:15, Date 2022-05-02 00:30:15, Contract address LUNC has 188 transactions\n",
      "dt_time 2022-05-03 02:30:15, Date 2022-05-03 00:30:15, Contract address LUNC has 207 transactions\n",
      "dt_time 2022-05-04 02:30:15, Date 2022-05-04 00:30:15, Contract address LUNC has 243 transactions\n",
      "dt_time 2022-05-05 02:30:15, Date 2022-05-05 00:30:15, Contract address LUNC has 341 transactions\n",
      "dt_time 2022-05-06 02:30:15, Date 2022-05-06 00:30:15, Contract address LUNC has 230 transactions\n",
      "dt_time 2022-05-07 02:30:15, Date 2022-05-07 00:30:15, Contract address LUNC has 364 transactions\n",
      "dt_time 2022-05-08 02:30:15, Date 2022-05-08 00:30:15, Contract address LUNC has 457 transactions\n",
      "dt_time 2022-05-09 02:30:15, Date 2022-05-09 00:30:15, Contract address LUNC has 841 transactions\n",
      "dt_time 2022-05-10 02:30:15, Date 2022-05-10 00:30:15, Contract address LUNC has 2165 transactions\n",
      "dt_time 2022-05-11 02:30:15, Date 2022-05-11 00:30:15, Contract address LUNC has 5203 transactions\n",
      "dt_time 2022-05-12 02:30:15, Date 2022-05-12 00:30:15, Contract address LUNC has 6372 transactions\n",
      "dt_time 2022-05-13 02:30:15, Date 2022-05-13 00:30:15, Contract address LUNC has 7952 transactions\n",
      "dt_time 2022-05-14 02:30:15, Date 2022-05-14 00:30:15, Contract address LUNC has 15255 transactions\n",
      "dt_time 2022-05-15 02:30:15, Date 2022-05-15 00:30:15, Contract address LUNC has 11456 transactions\n",
      "dt_time 2022-05-16 02:30:15, Date 2022-05-16 00:30:15, Contract address LUNC has 6131 transactions\n",
      "dt_time 2022-05-17 02:30:15, Date 2022-05-17 00:30:15, Contract address LUNC has 3349 transactions\n",
      "dt_time 2022-05-18 02:30:15, Date 2022-05-18 00:30:15, Contract address LUNC has 3403 transactions\n",
      "dt_time 2022-05-19 02:30:15, Date 2022-05-19 00:30:15, Contract address LUNC has 2346 transactions\n",
      "dt_time 2022-05-20 02:30:15, Date 2022-05-20 00:30:15, Contract address LUNC has 2083 transactions\n",
      "dt_time 2022-05-21 02:30:15, Date 2022-05-21 00:30:15, Contract address LUNC has 2082 transactions\n",
      "dt_time 2022-05-22 02:30:15, Date 2022-05-22 00:30:15, Contract address LUNC has 3451 transactions\n",
      "dt_time 2022-05-23 02:30:15, Date 2022-05-23 00:30:15, Contract address LUNC has 4010 transactions\n",
      "dt_time 2022-05-24 02:30:15, Date 2022-05-24 00:30:15, Contract address LUNC has 3401 transactions\n",
      "dt_time 2022-04-28 02:30:15, Date 2022-04-28 00:30:15, Contract address USTC has 1207 transactions\n",
      "dt_time 2022-04-29 02:30:15, Date 2022-04-29 00:30:15, Contract address USTC has 1140 transactions\n",
      "dt_time 2022-04-30 02:30:15, Date 2022-04-30 00:30:15, Contract address USTC has 1097 transactions\n",
      "dt_time 2022-05-01 02:30:15, Date 2022-05-01 00:30:15, Contract address USTC has 855 transactions\n",
      "dt_time 2022-05-02 02:30:15, Date 2022-05-02 00:30:15, Contract address USTC has 1047 transactions\n",
      "dt_time 2022-05-03 02:30:15, Date 2022-05-03 00:30:15, Contract address USTC has 1134 transactions\n",
      "dt_time 2022-05-04 02:30:15, Date 2022-05-04 00:30:15, Contract address USTC has 1121 transactions\n",
      "dt_time 2022-05-05 02:30:15, Date 2022-05-05 00:30:15, Contract address USTC has 1060 transactions\n",
      "dt_time 2022-05-06 02:30:15, Date 2022-05-06 00:30:15, Contract address USTC has 1098 transactions\n",
      "dt_time 2022-05-07 02:30:15, Date 2022-05-07 00:30:15, Contract address USTC has 1687 transactions\n",
      "dt_time 2022-05-08 02:30:15, Date 2022-05-08 00:30:15, Contract address USTC has 1819 transactions\n",
      "dt_time 2022-05-09 02:30:15, Date 2022-05-09 00:30:15, Contract address USTC has 3759 transactions\n",
      "dt_time 2022-05-10 02:30:15, Date 2022-05-10 00:30:15, Contract address USTC has 6236 transactions\n",
      "dt_time 2022-05-11 02:30:15, Date 2022-05-11 00:30:15, Contract address USTC has 7047 transactions\n",
      "dt_time 2022-05-12 02:30:15, Date 2022-05-12 00:30:15, Contract address USTC has 6074 transactions\n",
      "dt_time 2022-05-13 02:30:15, Date 2022-05-13 00:30:15, Contract address USTC has 3244 transactions\n",
      "dt_time 2022-05-14 02:30:15, Date 2022-05-14 00:30:15, Contract address USTC has 1870 transactions\n",
      "dt_time 2022-05-15 02:30:15, Date 2022-05-15 00:30:15, Contract address USTC has 1660 transactions\n",
      "dt_time 2022-05-16 02:30:15, Date 2022-05-16 00:30:15, Contract address USTC has 1429 transactions\n",
      "dt_time 2022-05-17 02:30:15, Date 2022-05-17 00:30:15, Contract address USTC has 736 transactions\n",
      "dt_time 2022-05-18 02:30:15, Date 2022-05-18 00:30:15, Contract address USTC has 935 transactions\n",
      "dt_time 2022-05-19 02:30:15, Date 2022-05-19 00:30:15, Contract address USTC has 722 transactions\n",
      "dt_time 2022-05-20 02:30:15, Date 2022-05-20 00:30:15, Contract address USTC has 613 transactions\n",
      "dt_time 2022-05-21 02:30:15, Date 2022-05-21 00:30:15, Contract address USTC has 568 transactions\n",
      "dt_time 2022-05-22 02:30:15, Date 2022-05-22 00:30:15, Contract address USTC has 497 transactions\n",
      "dt_time 2022-05-23 02:30:15, Date 2022-05-23 00:30:15, Contract address USTC has 713 transactions\n",
      "dt_time 2022-05-24 02:30:15, Date 2022-05-24 00:30:15, Contract address USTC has 1046 transactions\n",
      "dt_time 2022-04-28 02:30:15, Date 2022-04-28 00:30:15, Contract address USD has 39112 transactions\n",
      "dt_time 2022-04-29 02:30:15, Date 2022-04-29 00:30:15, Contract address USD has 42849 transactions\n",
      "dt_time 2022-04-30 02:30:15, Date 2022-04-30 00:30:15, Contract address USD has 38089 transactions\n",
      "dt_time 2022-05-01 02:30:15, Date 2022-05-01 00:30:15, Contract address USD has 31297 transactions\n",
      "dt_time 2022-05-02 02:30:15, Date 2022-05-02 00:30:15, Contract address USD has 41566 transactions\n",
      "dt_time 2022-05-03 02:30:15, Date 2022-05-03 00:30:15, Contract address USD has 37756 transactions\n",
      "dt_time 2022-05-04 02:30:15, Date 2022-05-04 00:30:15, Contract address USD has 40500 transactions\n",
      "dt_time 2022-05-05 02:30:15, Date 2022-05-05 00:30:15, Contract address USD has 70032 transactions\n",
      "dt_time 2022-05-06 02:30:15, Date 2022-05-06 00:30:15, Contract address USD has 42295 transactions\n",
      "dt_time 2022-05-07 02:30:15, Date 2022-05-07 00:30:15, Contract address USD has 36568 transactions\n",
      "dt_time 2022-05-08 02:30:15, Date 2022-05-08 00:30:15, Contract address USD has 50056 transactions\n",
      "dt_time 2022-05-09 02:30:15, Date 2022-05-09 00:30:15, Contract address USD has 63629 transactions\n",
      "dt_time 2022-05-10 02:30:15, Date 2022-05-10 00:30:15, Contract address USD has 59620 transactions\n",
      "dt_time 2022-05-11 02:30:15, Date 2022-05-11 00:30:15, Contract address USD has 74196 transactions\n",
      "dt_time 2022-05-12 02:30:15, Date 2022-05-12 00:30:15, Contract address USD has 95110 transactions\n",
      "dt_time 2022-05-13 02:30:15, Date 2022-05-13 00:30:15, Contract address USD has 68472 transactions\n",
      "dt_time 2022-05-14 02:30:15, Date 2022-05-14 00:30:15, Contract address USD has 50072 transactions\n",
      "dt_time 2022-05-15 02:30:15, Date 2022-05-15 00:30:15, Contract address USD has 45997 transactions\n",
      "dt_time 2022-05-16 02:30:15, Date 2022-05-16 00:30:15, Contract address USD has 52451 transactions\n",
      "dt_time 2022-05-17 02:30:15, Date 2022-05-17 00:30:15, Contract address USD has 46019 transactions\n",
      "dt_time 2022-05-18 02:30:15, Date 2022-05-18 00:30:15, Contract address USD has 51540 transactions\n",
      "dt_time 2022-05-19 02:30:15, Date 2022-05-19 00:30:15, Contract address USD has 45374 transactions\n",
      "dt_time 2022-05-20 02:30:15, Date 2022-05-20 00:30:15, Contract address USD has 41799 transactions\n",
      "dt_time 2022-05-21 02:30:15, Date 2022-05-21 00:30:15, Contract address USD has 30988 transactions\n",
      "dt_time 2022-05-22 02:30:15, Date 2022-05-22 00:30:15, Contract address USD has 33034 transactions\n",
      "dt_time 2022-05-23 02:30:15, Date 2022-05-23 00:30:15, Contract address USD has 44896 transactions\n",
      "dt_time 2022-05-24 02:30:15, Date 2022-05-24 00:30:15, Contract address USD has 41146 transactions\n",
      "dt_time 2022-04-28 02:30:15, Date 2022-04-28 00:30:15, Contract address USDP has 236 transactions\n",
      "dt_time 2022-04-29 02:30:15, Date 2022-04-29 00:30:15, Contract address USDP has 204 transactions\n",
      "dt_time 2022-04-30 02:30:15, Date 2022-04-30 00:30:15, Contract address USDP has 112 transactions\n",
      "dt_time 2022-05-01 02:30:15, Date 2022-05-01 00:30:15, Contract address USDP has 114 transactions\n",
      "dt_time 2022-05-02 02:30:15, Date 2022-05-02 00:30:15, Contract address USDP has 192 transactions\n",
      "dt_time 2022-05-03 02:30:15, Date 2022-05-03 00:30:15, Contract address USDP has 195 transactions\n",
      "dt_time 2022-05-04 02:30:15, Date 2022-05-04 00:30:15, Contract address USDP has 196 transactions\n",
      "dt_time 2022-05-05 02:30:15, Date 2022-05-05 00:30:15, Contract address USDP has 208 transactions\n",
      "dt_time 2022-05-06 02:30:15, Date 2022-05-06 00:30:15, Contract address USDP has 198 transactions\n",
      "dt_time 2022-05-07 02:30:15, Date 2022-05-07 00:30:15, Contract address USDP has 129 transactions\n",
      "dt_time 2022-05-08 02:30:15, Date 2022-05-08 00:30:15, Contract address USDP has 161 transactions\n",
      "dt_time 2022-05-09 02:30:15, Date 2022-05-09 00:30:15, Contract address USDP has 313 transactions\n",
      "dt_time 2022-05-10 02:30:15, Date 2022-05-10 00:30:15, Contract address USDP has 376 transactions\n",
      "dt_time 2022-05-11 02:30:15, Date 2022-05-11 00:30:15, Contract address USDP has 410 transactions\n",
      "dt_time 2022-05-12 02:30:15, Date 2022-05-12 00:30:15, Contract address USDP has 638 transactions\n",
      "dt_time 2022-05-13 02:30:15, Date 2022-05-13 00:30:15, Contract address USDP has 405 transactions\n",
      "dt_time 2022-05-14 02:30:15, Date 2022-05-14 00:30:15, Contract address USDP has 213 transactions\n",
      "dt_time 2022-05-15 02:30:15, Date 2022-05-15 00:30:15, Contract address USDP has 285 transactions\n",
      "dt_time 2022-05-16 02:30:15, Date 2022-05-16 00:30:15, Contract address USDP has 272 transactions\n",
      "dt_time 2022-05-17 02:30:15, Date 2022-05-17 00:30:15, Contract address USDP has 277 transactions\n",
      "dt_time 2022-05-18 02:30:15, Date 2022-05-18 00:30:15, Contract address USDP has 232 transactions\n",
      "dt_time 2022-05-19 02:30:15, Date 2022-05-19 00:30:15, Contract address USDP has 329 transactions\n",
      "dt_time 2022-05-20 02:30:15, Date 2022-05-20 00:30:15, Contract address USDP has 201 transactions\n",
      "dt_time 2022-05-21 02:30:15, Date 2022-05-21 00:30:15, Contract address USDP has 119 transactions\n",
      "dt_time 2022-05-22 02:30:15, Date 2022-05-22 00:30:15, Contract address USDP has 156 transactions\n",
      "dt_time 2022-05-23 02:30:15, Date 2022-05-23 00:30:15, Contract address USDP has 314 transactions\n",
      "dt_time 2022-05-24 02:30:15, Date 2022-05-24 00:30:15, Contract address USDP has 207 transactions\n",
      "dt_time 2022-04-28 02:30:15, Date 2022-04-28 00:30:15, Contract address USDT has 71237 transactions\n",
      "dt_time 2022-04-29 02:30:15, Date 2022-04-29 00:30:15, Contract address USDT has 77921 transactions\n",
      "dt_time 2022-04-30 02:30:15, Date 2022-04-30 00:30:15, Contract address USDT has 65681 transactions\n",
      "dt_time 2022-05-01 02:30:15, Date 2022-05-01 00:30:15, Contract address USDT has 54228 transactions\n",
      "dt_time 2022-05-02 02:30:15, Date 2022-05-02 00:30:15, Contract address USDT has 63697 transactions\n",
      "dt_time 2022-05-03 02:30:15, Date 2022-05-03 00:30:15, Contract address USDT has 63533 transactions\n",
      "dt_time 2022-05-04 02:30:15, Date 2022-05-04 00:30:15, Contract address USDT has 70345 transactions\n",
      "dt_time 2022-05-05 02:30:15, Date 2022-05-05 00:30:15, Contract address USDT has 73926 transactions\n",
      "dt_time 2022-05-06 02:30:15, Date 2022-05-06 00:30:15, Contract address USDT has 71430 transactions\n",
      "dt_time 2022-05-07 02:30:15, Date 2022-05-07 00:30:15, Contract address USDT has 60447 transactions\n",
      "dt_time 2022-05-08 02:30:15, Date 2022-05-08 00:30:15, Contract address USDT has 61810 transactions\n",
      "dt_time 2022-05-09 02:30:15, Date 2022-05-09 00:30:15, Contract address USDT has 91609 transactions\n",
      "dt_time 2022-05-10 02:30:15, Date 2022-05-10 00:30:15, Contract address USDT has 101350 transactions\n",
      "dt_time 2022-05-11 02:30:15, Date 2022-05-11 00:30:15, Contract address USDT has 110277 transactions\n",
      "dt_time 2022-05-12 02:30:15, Date 2022-05-12 00:30:15, Contract address USDT has 135655 transactions\n",
      "dt_time 2022-05-13 02:30:15, Date 2022-05-13 00:30:15, Contract address USDT has 113427 transactions\n",
      "dt_time 2022-05-14 02:30:15, Date 2022-05-14 00:30:15, Contract address USDT has 89688 transactions\n",
      "dt_time 2022-05-15 02:30:15, Date 2022-05-15 00:30:15, Contract address USDT has 69832 transactions\n",
      "dt_time 2022-05-16 02:30:15, Date 2022-05-16 00:30:15, Contract address USDT has 82023 transactions\n",
      "dt_time 2022-05-17 02:30:15, Date 2022-05-17 00:30:15, Contract address USDT has 85771 transactions\n",
      "dt_time 2022-05-18 02:30:15, Date 2022-05-18 00:30:15, Contract address USDT has 86573 transactions\n",
      "dt_time 2022-05-19 02:30:15, Date 2022-05-19 00:30:15, Contract address USDT has 67908 transactions\n",
      "dt_time 2022-05-20 02:30:15, Date 2022-05-20 00:30:15, Contract address USDT has 67374 transactions\n",
      "dt_time 2022-05-21 02:30:15, Date 2022-05-21 00:30:15, Contract address USDT has 51222 transactions\n",
      "dt_time 2022-05-22 02:30:15, Date 2022-05-22 00:30:15, Contract address USDT has 47785 transactions\n",
      "dt_time 2022-05-23 02:30:15, Date 2022-05-23 00:30:15, Contract address USDT has 66711 transactions\n",
      "dt_time 2022-05-24 02:30:15, Date 2022-05-24 00:30:15, Contract address USDT has 66097 transactions\n"
     ]
    }
   ],
   "source": [
    "for l in all_layers:\n",
    "    for w in g.layer(l).rolling(step='1 day', window='1 day'):\n",
    "        print(\"dt_time {}, Date {}, Contract address {} has {} transactions\".format(datetime.fromtimestamp(w.start() / 1000), w.start_date_time(), l,w.layer(l).num_edges()))"
   ]
  },
  {
   "cell_type": "code",
   "execution_count": 16,
   "id": "9c97fbfa-b692-438a-aa6e-6aff925c232e",
   "metadata": {},
   "outputs": [],
   "source": [
    "events = [['2022-05-12', 'LUNA Crash']]\n",
    "events = pd.DataFrame(events, columns=['Time', 'event'])\n",
    "event_rules = alt.Chart(events).mark_rule(color='gray').encode(x='Time:T')\n",
    "labels = alt.Chart(events).mark_text(dx=3, dy=-120, color='black', align='left').encode(\n",
    "    x='Time:T',\n",
    "    text='event'\n",
    ")\n",
    "event_chart = alt.layer(event_rules, labels)"
   ]
  },
  {
   "cell_type": "code",
   "execution_count": 17,
   "id": "6e42d0d4-0fdb-4ffb-b85f-85a4bb3296aa",
   "metadata": {},
   "outputs": [
    {
     "name": "stderr",
     "output_type": "stream",
     "text": [
      "/data-restricted/home/cheick_ba/.conda/envs/raphtory/lib/python3.10/site-packages/altair/utils/deprecation.py:65: AltairDeprecationWarning: 'selection_multi' is deprecated.  Use 'selection_point'\n",
      "  warnings.warn(message, AltairDeprecationWarning, stacklevel=1)\n",
      "/data-restricted/home/cheick_ba/.conda/envs/raphtory/lib/python3.10/site-packages/altair/utils/deprecation.py:65: AltairDeprecationWarning: 'add_selection' is deprecated. Use 'add_params' instead.\n",
      "  warnings.warn(message, AltairDeprecationWarning, stacklevel=1)\n"
     ]
    },
    {
     "data": {
      "text/html": [
       "\n",
       "<style>\n",
       "  #altair-viz-78c5c1bbf5754508bcbdef0e39428880.vega-embed {\n",
       "    width: 100%;\n",
       "    display: flex;\n",
       "  }\n",
       "\n",
       "  #altair-viz-78c5c1bbf5754508bcbdef0e39428880.vega-embed details,\n",
       "  #altair-viz-78c5c1bbf5754508bcbdef0e39428880.vega-embed details summary {\n",
       "    position: relative;\n",
       "  }\n",
       "</style>\n",
       "<div id=\"altair-viz-78c5c1bbf5754508bcbdef0e39428880\"></div>\n",
       "<script type=\"text/javascript\">\n",
       "  var VEGA_DEBUG = (typeof VEGA_DEBUG == \"undefined\") ? {} : VEGA_DEBUG;\n",
       "  (function(spec, embedOpt){\n",
       "    let outputDiv = document.currentScript.previousElementSibling;\n",
       "    if (outputDiv.id !== \"altair-viz-78c5c1bbf5754508bcbdef0e39428880\") {\n",
       "      outputDiv = document.getElementById(\"altair-viz-78c5c1bbf5754508bcbdef0e39428880\");\n",
       "    }\n",
       "    const paths = {\n",
       "      \"vega\": \"https://cdn.jsdelivr.net/npm/vega@5?noext\",\n",
       "      \"vega-lib\": \"https://cdn.jsdelivr.net/npm/vega-lib?noext\",\n",
       "      \"vega-lite\": \"https://cdn.jsdelivr.net/npm/vega-lite@5.8.0?noext\",\n",
       "      \"vega-embed\": \"https://cdn.jsdelivr.net/npm/vega-embed@6?noext\",\n",
       "    };\n",
       "\n",
       "    function maybeLoadScript(lib, version) {\n",
       "      var key = `${lib.replace(\"-\", \"\")}_version`;\n",
       "      return (VEGA_DEBUG[key] == version) ?\n",
       "        Promise.resolve(paths[lib]) :\n",
       "        new Promise(function(resolve, reject) {\n",
       "          var s = document.createElement('script');\n",
       "          document.getElementsByTagName(\"head\")[0].appendChild(s);\n",
       "          s.async = true;\n",
       "          s.onload = () => {\n",
       "            VEGA_DEBUG[key] = version;\n",
       "            return resolve(paths[lib]);\n",
       "          };\n",
       "          s.onerror = () => reject(`Error loading script: ${paths[lib]}`);\n",
       "          s.src = paths[lib];\n",
       "        });\n",
       "    }\n",
       "\n",
       "    function showError(err) {\n",
       "      outputDiv.innerHTML = `<div class=\"error\" style=\"color:red;\">${err}</div>`;\n",
       "      throw err;\n",
       "    }\n",
       "\n",
       "    function displayChart(vegaEmbed) {\n",
       "      vegaEmbed(outputDiv, spec, embedOpt)\n",
       "        .catch(err => showError(`Javascript Error: ${err.message}<br>This usually means there's a typo in your chart specification. See the javascript console for the full traceback.`));\n",
       "    }\n",
       "\n",
       "    if(typeof define === \"function\" && define.amd) {\n",
       "      requirejs.config({paths});\n",
       "      require([\"vega-embed\"], displayChart, err => showError(`Error loading script: ${err.message}`));\n",
       "    } else {\n",
       "      maybeLoadScript(\"vega\", \"5\")\n",
       "        .then(() => maybeLoadScript(\"vega-lite\", \"5.8.0\"))\n",
       "        .then(() => maybeLoadScript(\"vega-embed\", \"6\"))\n",
       "        .catch(showError)\n",
       "        .then(() => displayChart(vegaEmbed));\n",
       "    }\n",
       "  })({\"config\": {\"view\": {\"continuousWidth\": 300, \"continuousHeight\": 300}}, \"layer\": [{\"data\": {\"name\": \"data-0766d489d0f21453001568b79127f6b3\"}, \"mark\": {\"type\": \"line\"}, \"encoding\": {\"color\": {\"field\": \"Layer\", \"type\": \"nominal\"}, \"opacity\": {\"condition\": {\"param\": \"param_1\", \"value\": 1.0}, \"value\": 0.2}, \"tooltip\": [{\"field\": \"Layer\", \"type\": \"nominal\"}, {\"field\": \"Tnx Count\", \"type\": \"quantitative\"}], \"x\": {\"field\": \"Time\", \"type\": \"temporal\"}, \"y\": {\"field\": \"Tnx Count\", \"type\": \"quantitative\"}}, \"name\": \"view_1\"}, {\"layer\": [{\"mark\": {\"type\": \"rule\", \"color\": \"gray\"}, \"encoding\": {\"x\": {\"field\": \"Time\", \"type\": \"temporal\"}}}, {\"mark\": {\"type\": \"text\", \"align\": \"left\", \"color\": \"black\", \"dx\": 3, \"dy\": -120}, \"encoding\": {\"text\": {\"field\": \"event\", \"type\": \"nominal\"}, \"x\": {\"field\": \"Time\", \"type\": \"temporal\"}}}], \"data\": {\"name\": \"data-03a7e27a271f30803a3f9052d97f8a33\"}}], \"params\": [{\"name\": \"param_1\", \"select\": {\"type\": \"point\", \"fields\": [\"layer\"]}, \"bind\": \"legend\", \"views\": [\"view_1\"]}], \"width\": 800, \"$schema\": \"https://vega.github.io/schema/vega-lite/v5.8.0.json\", \"datasets\": {\"data-0766d489d0f21453001568b79127f6b3\": [{\"Time\": \"2022-04-29T00:30:15\", \"Layer\": \"LUNC\", \"Tnx Count\": 199}, {\"Time\": \"2022-04-30T00:30:15\", \"Layer\": \"LUNC\", \"Tnx Count\": 264}, {\"Time\": \"2022-05-01T00:30:15\", \"Layer\": \"LUNC\", \"Tnx Count\": 235}, {\"Time\": \"2022-05-02T00:30:15\", \"Layer\": \"LUNC\", \"Tnx Count\": 206}, {\"Time\": \"2022-05-03T00:30:15\", \"Layer\": \"LUNC\", \"Tnx Count\": 188}, {\"Time\": \"2022-05-04T00:30:15\", \"Layer\": \"LUNC\", \"Tnx Count\": 207}, {\"Time\": \"2022-05-05T00:30:15\", \"Layer\": \"LUNC\", \"Tnx Count\": 243}, {\"Time\": \"2022-05-06T00:30:15\", \"Layer\": \"LUNC\", \"Tnx Count\": 341}, {\"Time\": \"2022-05-07T00:30:15\", \"Layer\": \"LUNC\", \"Tnx Count\": 230}, {\"Time\": \"2022-05-08T00:30:15\", \"Layer\": \"LUNC\", \"Tnx Count\": 364}, {\"Time\": \"2022-05-09T00:30:15\", \"Layer\": \"LUNC\", \"Tnx Count\": 457}, {\"Time\": \"2022-05-10T00:30:15\", \"Layer\": \"LUNC\", \"Tnx Count\": 841}, {\"Time\": \"2022-05-11T00:30:15\", \"Layer\": \"LUNC\", \"Tnx Count\": 2165}, {\"Time\": \"2022-05-12T00:30:15\", \"Layer\": \"LUNC\", \"Tnx Count\": 5203}, {\"Time\": \"2022-05-13T00:30:15\", \"Layer\": \"LUNC\", \"Tnx Count\": 6372}, {\"Time\": \"2022-05-14T00:30:15\", \"Layer\": \"LUNC\", \"Tnx Count\": 7952}, {\"Time\": \"2022-05-15T00:30:15\", \"Layer\": \"LUNC\", \"Tnx Count\": 15255}, {\"Time\": \"2022-05-16T00:30:15\", \"Layer\": \"LUNC\", \"Tnx Count\": 11456}, {\"Time\": \"2022-05-17T00:30:15\", \"Layer\": \"LUNC\", \"Tnx Count\": 6131}, {\"Time\": \"2022-05-18T00:30:15\", \"Layer\": \"LUNC\", \"Tnx Count\": 3349}, {\"Time\": \"2022-05-19T00:30:15\", \"Layer\": \"LUNC\", \"Tnx Count\": 3403}, {\"Time\": \"2022-05-20T00:30:15\", \"Layer\": \"LUNC\", \"Tnx Count\": 2346}, {\"Time\": \"2022-05-21T00:30:15\", \"Layer\": \"LUNC\", \"Tnx Count\": 2083}, {\"Time\": \"2022-05-22T00:30:15\", \"Layer\": \"LUNC\", \"Tnx Count\": 2082}, {\"Time\": \"2022-05-23T00:30:15\", \"Layer\": \"LUNC\", \"Tnx Count\": 3451}, {\"Time\": \"2022-05-24T00:30:15\", \"Layer\": \"LUNC\", \"Tnx Count\": 4010}, {\"Time\": \"2022-05-25T00:30:15\", \"Layer\": \"LUNC\", \"Tnx Count\": 3401}, {\"Time\": \"2022-04-29T00:30:15\", \"Layer\": \"Dai\", \"Tnx Count\": 4691}, {\"Time\": \"2022-04-30T00:30:15\", \"Layer\": \"Dai\", \"Tnx Count\": 5237}, {\"Time\": \"2022-05-01T00:30:15\", \"Layer\": \"Dai\", \"Tnx Count\": 4828}, {\"Time\": \"2022-05-02T00:30:15\", \"Layer\": \"Dai\", \"Tnx Count\": 4266}, {\"Time\": \"2022-05-03T00:30:15\", \"Layer\": \"Dai\", \"Tnx Count\": 4504}, {\"Time\": \"2022-05-04T00:30:15\", \"Layer\": \"Dai\", \"Tnx Count\": 4354}, {\"Time\": \"2022-05-05T00:30:15\", \"Layer\": \"Dai\", \"Tnx Count\": 5202}, {\"Time\": \"2022-05-06T00:30:15\", \"Layer\": \"Dai\", \"Tnx Count\": 5336}, {\"Time\": \"2022-05-07T00:30:15\", \"Layer\": \"Dai\", \"Tnx Count\": 5475}, {\"Time\": \"2022-05-08T00:30:15\", \"Layer\": \"Dai\", \"Tnx Count\": 5263}, {\"Time\": \"2022-05-09T00:30:15\", \"Layer\": \"Dai\", \"Tnx Count\": 6584}, {\"Time\": \"2022-05-10T00:30:15\", \"Layer\": \"Dai\", \"Tnx Count\": 9524}, {\"Time\": \"2022-05-11T00:30:15\", \"Layer\": \"Dai\", \"Tnx Count\": 7942}, {\"Time\": \"2022-05-12T00:30:15\", \"Layer\": \"Dai\", \"Tnx Count\": 10497}, {\"Time\": \"2022-05-13T00:30:15\", \"Layer\": \"Dai\", \"Tnx Count\": 14508}, {\"Time\": \"2022-05-14T00:30:15\", \"Layer\": \"Dai\", \"Tnx Count\": 8632}, {\"Time\": \"2022-05-15T00:30:15\", \"Layer\": \"Dai\", \"Tnx Count\": 6797}, {\"Time\": \"2022-05-16T00:30:15\", \"Layer\": \"Dai\", \"Tnx Count\": 6723}, {\"Time\": \"2022-05-17T00:30:15\", \"Layer\": \"Dai\", \"Tnx Count\": 6913}, {\"Time\": \"2022-05-18T00:30:15\", \"Layer\": \"Dai\", \"Tnx Count\": 5758}, {\"Time\": \"2022-05-19T00:30:15\", \"Layer\": \"Dai\", \"Tnx Count\": 6190}, {\"Time\": \"2022-05-20T00:30:15\", \"Layer\": \"Dai\", \"Tnx Count\": 6066}, {\"Time\": \"2022-05-21T00:30:15\", \"Layer\": \"Dai\", \"Tnx Count\": 5728}, {\"Time\": \"2022-05-22T00:30:15\", \"Layer\": \"Dai\", \"Tnx Count\": 4405}, {\"Time\": \"2022-05-23T00:30:15\", \"Layer\": \"Dai\", \"Tnx Count\": 4446}, {\"Time\": \"2022-05-24T00:30:15\", \"Layer\": \"Dai\", \"Tnx Count\": 5349}, {\"Time\": \"2022-05-25T00:30:15\", \"Layer\": \"Dai\", \"Tnx Count\": 4937}, {\"Time\": \"2022-04-29T00:30:15\", \"Layer\": \"USDP\", \"Tnx Count\": 236}, {\"Time\": \"2022-04-30T00:30:15\", \"Layer\": \"USDP\", \"Tnx Count\": 204}, {\"Time\": \"2022-05-01T00:30:15\", \"Layer\": \"USDP\", \"Tnx Count\": 112}, {\"Time\": \"2022-05-02T00:30:15\", \"Layer\": \"USDP\", \"Tnx Count\": 114}, {\"Time\": \"2022-05-03T00:30:15\", \"Layer\": \"USDP\", \"Tnx Count\": 192}, {\"Time\": \"2022-05-04T00:30:15\", \"Layer\": \"USDP\", \"Tnx Count\": 195}, {\"Time\": \"2022-05-05T00:30:15\", \"Layer\": \"USDP\", \"Tnx Count\": 196}, {\"Time\": \"2022-05-06T00:30:15\", \"Layer\": \"USDP\", \"Tnx Count\": 208}, {\"Time\": \"2022-05-07T00:30:15\", \"Layer\": \"USDP\", \"Tnx Count\": 198}, {\"Time\": \"2022-05-08T00:30:15\", \"Layer\": \"USDP\", \"Tnx Count\": 129}, {\"Time\": \"2022-05-09T00:30:15\", \"Layer\": \"USDP\", \"Tnx Count\": 161}, {\"Time\": \"2022-05-10T00:30:15\", \"Layer\": \"USDP\", \"Tnx Count\": 313}, {\"Time\": \"2022-05-11T00:30:15\", \"Layer\": \"USDP\", \"Tnx Count\": 376}, {\"Time\": \"2022-05-12T00:30:15\", \"Layer\": \"USDP\", \"Tnx Count\": 410}, {\"Time\": \"2022-05-13T00:30:15\", \"Layer\": \"USDP\", \"Tnx Count\": 638}, {\"Time\": \"2022-05-14T00:30:15\", \"Layer\": \"USDP\", \"Tnx Count\": 405}, {\"Time\": \"2022-05-15T00:30:15\", \"Layer\": \"USDP\", \"Tnx Count\": 213}, {\"Time\": \"2022-05-16T00:30:15\", \"Layer\": \"USDP\", \"Tnx Count\": 285}, {\"Time\": \"2022-05-17T00:30:15\", \"Layer\": \"USDP\", \"Tnx Count\": 272}, {\"Time\": \"2022-05-18T00:30:15\", \"Layer\": \"USDP\", \"Tnx Count\": 277}, {\"Time\": \"2022-05-19T00:30:15\", \"Layer\": \"USDP\", \"Tnx Count\": 232}, {\"Time\": \"2022-05-20T00:30:15\", \"Layer\": \"USDP\", \"Tnx Count\": 329}, {\"Time\": \"2022-05-21T00:30:15\", \"Layer\": \"USDP\", \"Tnx Count\": 201}, {\"Time\": \"2022-05-22T00:30:15\", \"Layer\": \"USDP\", \"Tnx Count\": 119}, {\"Time\": \"2022-05-23T00:30:15\", \"Layer\": \"USDP\", \"Tnx Count\": 156}, {\"Time\": \"2022-05-24T00:30:15\", \"Layer\": \"USDP\", \"Tnx Count\": 314}, {\"Time\": \"2022-05-25T00:30:15\", \"Layer\": \"USDP\", \"Tnx Count\": 207}, {\"Time\": \"2022-04-29T00:30:15\", \"Layer\": \"USTC\", \"Tnx Count\": 1207}, {\"Time\": \"2022-04-30T00:30:15\", \"Layer\": \"USTC\", \"Tnx Count\": 1140}, {\"Time\": \"2022-05-01T00:30:15\", \"Layer\": \"USTC\", \"Tnx Count\": 1097}, {\"Time\": \"2022-05-02T00:30:15\", \"Layer\": \"USTC\", \"Tnx Count\": 855}, {\"Time\": \"2022-05-03T00:30:15\", \"Layer\": \"USTC\", \"Tnx Count\": 1047}, {\"Time\": \"2022-05-04T00:30:15\", \"Layer\": \"USTC\", \"Tnx Count\": 1134}, {\"Time\": \"2022-05-05T00:30:15\", \"Layer\": \"USTC\", \"Tnx Count\": 1121}, {\"Time\": \"2022-05-06T00:30:15\", \"Layer\": \"USTC\", \"Tnx Count\": 1060}, {\"Time\": \"2022-05-07T00:30:15\", \"Layer\": \"USTC\", \"Tnx Count\": 1098}, {\"Time\": \"2022-05-08T00:30:15\", \"Layer\": \"USTC\", \"Tnx Count\": 1687}, {\"Time\": \"2022-05-09T00:30:15\", \"Layer\": \"USTC\", \"Tnx Count\": 1819}, {\"Time\": \"2022-05-10T00:30:15\", \"Layer\": \"USTC\", \"Tnx Count\": 3759}, {\"Time\": \"2022-05-11T00:30:15\", \"Layer\": \"USTC\", \"Tnx Count\": 6236}, {\"Time\": \"2022-05-12T00:30:15\", \"Layer\": \"USTC\", \"Tnx Count\": 7047}, {\"Time\": \"2022-05-13T00:30:15\", \"Layer\": \"USTC\", \"Tnx Count\": 6074}, {\"Time\": \"2022-05-14T00:30:15\", \"Layer\": \"USTC\", \"Tnx Count\": 3244}, {\"Time\": \"2022-05-15T00:30:15\", \"Layer\": \"USTC\", \"Tnx Count\": 1870}, {\"Time\": \"2022-05-16T00:30:15\", \"Layer\": \"USTC\", \"Tnx Count\": 1660}, {\"Time\": \"2022-05-17T00:30:15\", \"Layer\": \"USTC\", \"Tnx Count\": 1429}, {\"Time\": \"2022-05-18T00:30:15\", \"Layer\": \"USTC\", \"Tnx Count\": 736}, {\"Time\": \"2022-05-19T00:30:15\", \"Layer\": \"USTC\", \"Tnx Count\": 935}, {\"Time\": \"2022-05-20T00:30:15\", \"Layer\": \"USTC\", \"Tnx Count\": 722}, {\"Time\": \"2022-05-21T00:30:15\", \"Layer\": \"USTC\", \"Tnx Count\": 613}, {\"Time\": \"2022-05-22T00:30:15\", \"Layer\": \"USTC\", \"Tnx Count\": 568}, {\"Time\": \"2022-05-23T00:30:15\", \"Layer\": \"USTC\", \"Tnx Count\": 497}, {\"Time\": \"2022-05-24T00:30:15\", \"Layer\": \"USTC\", \"Tnx Count\": 713}, {\"Time\": \"2022-05-25T00:30:15\", \"Layer\": \"USTC\", \"Tnx Count\": 1046}], \"data-03a7e27a271f30803a3f9052d97f8a33\": [{\"Time\": \"2022-05-12\", \"event\": \"LUNA Crash\"}]}}, {\"mode\": \"vega-lite\"});\n",
       "</script>"
      ],
      "text/plain": [
       "alt.LayerChart(...)"
      ]
     },
     "execution_count": 17,
     "metadata": {},
     "output_type": "execute_result"
    }
   ],
   "source": [
    "result = pd.DataFrame()\n",
    "\n",
    "all_layers = g.get_unique_layers()\n",
    "avoid_layers = ['USD', 'USDT']\n",
    "layers = set(all_layers) - set(avoid_layers)\n",
    "\n",
    "rolling = g.rolling(step='1 day', window='1 day')\n",
    "for l in layers:\n",
    "    result[l] = [w.layer(l).num_edges() for w in rolling]\n",
    "\n",
    "result['Time'] = [w.end_date_time() for w in rolling]\n",
    "\n",
    "source = pd.melt(result, id_vars=['Time'], value_vars=layers, var_name='Layer', value_name='Tnx Count')\n",
    "selection = alt.selection_multi(fields=['layer'], bind='legend')\n",
    "chart = alt.Chart(source).mark_line().encode(\n",
    "    x=\"Time:T\",\n",
    "    y=f\"{'Tnx Count'}:Q\",\n",
    "    color=\"Layer\",\n",
    "    tooltip=['Layer', 'Tnx Count'],\n",
    "    opacity=alt.condition(selection, alt.value(1.0), alt.value(0.2))\n",
    ").properties(\n",
    "    width=800,\n",
    ").add_selection(\n",
    "    selection\n",
    ")\n",
    "\n",
    "alt.layer(chart, event_chart)"
   ]
  },
  {
   "cell_type": "code",
   "execution_count": 18,
   "id": "6ec6b48f-b016-4152-8806-09a1a792e8f9",
   "metadata": {},
   "outputs": [
    {
     "name": "stderr",
     "output_type": "stream",
     "text": [
      "/data-restricted/home/cheick_ba/.conda/envs/raphtory/lib/python3.10/site-packages/altair/utils/deprecation.py:65: AltairDeprecationWarning: 'selection_multi' is deprecated.  Use 'selection_point'\n",
      "  warnings.warn(message, AltairDeprecationWarning, stacklevel=1)\n",
      "/data-restricted/home/cheick_ba/.conda/envs/raphtory/lib/python3.10/site-packages/altair/utils/deprecation.py:65: AltairDeprecationWarning: 'add_selection' is deprecated. Use 'add_params' instead.\n",
      "  warnings.warn(message, AltairDeprecationWarning, stacklevel=1)\n"
     ]
    },
    {
     "data": {
      "text/html": [
       "\n",
       "<style>\n",
       "  #altair-viz-42d7537c100343418a6e6055dd3e4cab.vega-embed {\n",
       "    width: 100%;\n",
       "    display: flex;\n",
       "  }\n",
       "\n",
       "  #altair-viz-42d7537c100343418a6e6055dd3e4cab.vega-embed details,\n",
       "  #altair-viz-42d7537c100343418a6e6055dd3e4cab.vega-embed details summary {\n",
       "    position: relative;\n",
       "  }\n",
       "</style>\n",
       "<div id=\"altair-viz-42d7537c100343418a6e6055dd3e4cab\"></div>\n",
       "<script type=\"text/javascript\">\n",
       "  var VEGA_DEBUG = (typeof VEGA_DEBUG == \"undefined\") ? {} : VEGA_DEBUG;\n",
       "  (function(spec, embedOpt){\n",
       "    let outputDiv = document.currentScript.previousElementSibling;\n",
       "    if (outputDiv.id !== \"altair-viz-42d7537c100343418a6e6055dd3e4cab\") {\n",
       "      outputDiv = document.getElementById(\"altair-viz-42d7537c100343418a6e6055dd3e4cab\");\n",
       "    }\n",
       "    const paths = {\n",
       "      \"vega\": \"https://cdn.jsdelivr.net/npm/vega@5?noext\",\n",
       "      \"vega-lib\": \"https://cdn.jsdelivr.net/npm/vega-lib?noext\",\n",
       "      \"vega-lite\": \"https://cdn.jsdelivr.net/npm/vega-lite@5.8.0?noext\",\n",
       "      \"vega-embed\": \"https://cdn.jsdelivr.net/npm/vega-embed@6?noext\",\n",
       "    };\n",
       "\n",
       "    function maybeLoadScript(lib, version) {\n",
       "      var key = `${lib.replace(\"-\", \"\")}_version`;\n",
       "      return (VEGA_DEBUG[key] == version) ?\n",
       "        Promise.resolve(paths[lib]) :\n",
       "        new Promise(function(resolve, reject) {\n",
       "          var s = document.createElement('script');\n",
       "          document.getElementsByTagName(\"head\")[0].appendChild(s);\n",
       "          s.async = true;\n",
       "          s.onload = () => {\n",
       "            VEGA_DEBUG[key] = version;\n",
       "            return resolve(paths[lib]);\n",
       "          };\n",
       "          s.onerror = () => reject(`Error loading script: ${paths[lib]}`);\n",
       "          s.src = paths[lib];\n",
       "        });\n",
       "    }\n",
       "\n",
       "    function showError(err) {\n",
       "      outputDiv.innerHTML = `<div class=\"error\" style=\"color:red;\">${err}</div>`;\n",
       "      throw err;\n",
       "    }\n",
       "\n",
       "    function displayChart(vegaEmbed) {\n",
       "      vegaEmbed(outputDiv, spec, embedOpt)\n",
       "        .catch(err => showError(`Javascript Error: ${err.message}<br>This usually means there's a typo in your chart specification. See the javascript console for the full traceback.`));\n",
       "    }\n",
       "\n",
       "    if(typeof define === \"function\" && define.amd) {\n",
       "      requirejs.config({paths});\n",
       "      require([\"vega-embed\"], displayChart, err => showError(`Error loading script: ${err.message}`));\n",
       "    } else {\n",
       "      maybeLoadScript(\"vega\", \"5\")\n",
       "        .then(() => maybeLoadScript(\"vega-lite\", \"5.8.0\"))\n",
       "        .then(() => maybeLoadScript(\"vega-embed\", \"6\"))\n",
       "        .catch(showError)\n",
       "        .then(() => displayChart(vegaEmbed));\n",
       "    }\n",
       "  })({\"config\": {\"view\": {\"continuousWidth\": 300, \"continuousHeight\": 300}}, \"layer\": [{\"data\": {\"name\": \"data-7606d89985df17fd1702f3f5da0366fd\"}, \"mark\": {\"type\": \"line\"}, \"encoding\": {\"color\": {\"field\": \"Layer\", \"type\": \"nominal\"}, \"opacity\": {\"condition\": {\"param\": \"param_2\", \"value\": 1.0}, \"value\": 0.2}, \"tooltip\": [{\"field\": \"Layer\", \"type\": \"nominal\"}, {\"field\": \"Tnx Count\", \"type\": \"quantitative\"}], \"x\": {\"field\": \"Time\", \"type\": \"temporal\"}, \"y\": {\"field\": \"Tnx Count\", \"type\": \"quantitative\"}}, \"name\": \"view_2\"}, {\"layer\": [{\"mark\": {\"type\": \"rule\", \"color\": \"gray\"}, \"encoding\": {\"x\": {\"field\": \"Time\", \"type\": \"temporal\"}}}, {\"mark\": {\"type\": \"text\", \"align\": \"left\", \"color\": \"black\", \"dx\": 3, \"dy\": -120}, \"encoding\": {\"text\": {\"field\": \"event\", \"type\": \"nominal\"}, \"x\": {\"field\": \"Time\", \"type\": \"temporal\"}}}], \"data\": {\"name\": \"data-03a7e27a271f30803a3f9052d97f8a33\"}}], \"params\": [{\"name\": \"param_2\", \"select\": {\"type\": \"point\", \"fields\": [\"Layer\"]}, \"bind\": \"legend\", \"views\": [\"view_2\"]}], \"width\": 800, \"$schema\": \"https://vega.github.io/schema/vega-lite/v5.8.0.json\", \"datasets\": {\"data-7606d89985df17fd1702f3f5da0366fd\": [{\"Time\": \"2022-04-29T00:30:15\", \"Layer\": \"LUNC\", \"Tnx Count\": 199}, {\"Time\": \"2022-04-30T00:30:15\", \"Layer\": \"LUNC\", \"Tnx Count\": 432}, {\"Time\": \"2022-05-01T00:30:15\", \"Layer\": \"LUNC\", \"Tnx Count\": 621}, {\"Time\": \"2022-05-02T00:30:15\", \"Layer\": \"LUNC\", \"Tnx Count\": 789}, {\"Time\": \"2022-05-03T00:30:15\", \"Layer\": \"LUNC\", \"Tnx Count\": 936}, {\"Time\": \"2022-05-04T00:30:15\", \"Layer\": \"LUNC\", \"Tnx Count\": 1101}, {\"Time\": \"2022-05-05T00:30:15\", \"Layer\": \"LUNC\", \"Tnx Count\": 1284}, {\"Time\": \"2022-05-06T00:30:15\", \"Layer\": \"LUNC\", \"Tnx Count\": 1418}, {\"Time\": \"2022-05-07T00:30:15\", \"Layer\": \"LUNC\", \"Tnx Count\": 1425}, {\"Time\": \"2022-05-08T00:30:15\", \"Layer\": \"LUNC\", \"Tnx Count\": 1519}, {\"Time\": \"2022-05-09T00:30:15\", \"Layer\": \"LUNC\", \"Tnx Count\": 1721}, {\"Time\": \"2022-05-10T00:30:15\", \"Layer\": \"LUNC\", \"Tnx Count\": 2277}, {\"Time\": \"2022-05-11T00:30:15\", \"Layer\": \"LUNC\", \"Tnx Count\": 4013}, {\"Time\": \"2022-05-12T00:30:15\", \"Layer\": \"LUNC\", \"Tnx Count\": 8496}, {\"Time\": \"2022-05-13T00:30:15\", \"Layer\": \"LUNC\", \"Tnx Count\": 13708}, {\"Time\": \"2022-05-14T00:30:15\", \"Layer\": \"LUNC\", \"Tnx Count\": 20370}, {\"Time\": \"2022-05-15T00:30:15\", \"Layer\": \"LUNC\", \"Tnx Count\": 33824}, {\"Time\": \"2022-05-16T00:30:15\", \"Layer\": \"LUNC\", \"Tnx Count\": 42222}, {\"Time\": \"2022-05-17T00:30:15\", \"Layer\": \"LUNC\", \"Tnx Count\": 45834}, {\"Time\": \"2022-05-18T00:30:15\", \"Layer\": \"LUNC\", \"Tnx Count\": 46683}, {\"Time\": \"2022-05-19T00:30:15\", \"Layer\": \"LUNC\", \"Tnx Count\": 45192}, {\"Time\": \"2022-05-20T00:30:15\", \"Layer\": \"LUNC\", \"Tnx Count\": 41798}, {\"Time\": \"2022-05-21T00:30:15\", \"Layer\": \"LUNC\", \"Tnx Count\": 37166}, {\"Time\": \"2022-05-22T00:30:15\", \"Layer\": \"LUNC\", \"Tnx Count\": 26492}, {\"Time\": \"2022-05-23T00:30:15\", \"Layer\": \"LUNC\", \"Tnx Count\": 19564}, {\"Time\": \"2022-05-24T00:30:15\", \"Layer\": \"LUNC\", \"Tnx Count\": 17920}, {\"Time\": \"2022-05-25T00:30:15\", \"Layer\": \"LUNC\", \"Tnx Count\": 18134}, {\"Time\": \"2022-04-29T00:30:15\", \"Layer\": \"Dai\", \"Tnx Count\": 4691}, {\"Time\": \"2022-04-30T00:30:15\", \"Layer\": \"Dai\", \"Tnx Count\": 9354}, {\"Time\": \"2022-05-01T00:30:15\", \"Layer\": \"Dai\", \"Tnx Count\": 13320}, {\"Time\": \"2022-05-02T00:30:15\", \"Layer\": \"Dai\", \"Tnx Count\": 16726}, {\"Time\": \"2022-05-03T00:30:15\", \"Layer\": \"Dai\", \"Tnx Count\": 20277}, {\"Time\": \"2022-05-04T00:30:15\", \"Layer\": \"Dai\", \"Tnx Count\": 23619}, {\"Time\": \"2022-05-05T00:30:15\", \"Layer\": \"Dai\", \"Tnx Count\": 27573}, {\"Time\": \"2022-05-06T00:30:15\", \"Layer\": \"Dai\", \"Tnx Count\": 27979}, {\"Time\": \"2022-05-07T00:30:15\", \"Layer\": \"Dai\", \"Tnx Count\": 28247}, {\"Time\": \"2022-05-08T00:30:15\", \"Layer\": \"Dai\", \"Tnx Count\": 28687}, {\"Time\": \"2022-05-09T00:30:15\", \"Layer\": \"Dai\", \"Tnx Count\": 30485}, {\"Time\": \"2022-05-10T00:30:15\", \"Layer\": \"Dai\", \"Tnx Count\": 34299}, {\"Time\": \"2022-05-11T00:30:15\", \"Layer\": \"Dai\", \"Tnx Count\": 36807}, {\"Time\": \"2022-05-12T00:30:15\", \"Layer\": \"Dai\", \"Tnx Count\": 40505}, {\"Time\": \"2022-05-13T00:30:15\", \"Layer\": \"Dai\", \"Tnx Count\": 47643}, {\"Time\": \"2022-05-14T00:30:15\", \"Layer\": \"Dai\", \"Tnx Count\": 50119}, {\"Time\": \"2022-05-15T00:30:15\", \"Layer\": \"Dai\", \"Tnx Count\": 51283}, {\"Time\": \"2022-05-16T00:30:15\", \"Layer\": \"Dai\", \"Tnx Count\": 51792}, {\"Time\": \"2022-05-17T00:30:15\", \"Layer\": \"Dai\", \"Tnx Count\": 50398}, {\"Time\": \"2022-05-18T00:30:15\", \"Layer\": \"Dai\", \"Tnx Count\": 49152}, {\"Time\": \"2022-05-19T00:30:15\", \"Layer\": \"Dai\", \"Tnx Count\": 46053}, {\"Time\": \"2022-05-20T00:30:15\", \"Layer\": \"Dai\", \"Tnx Count\": 38730}, {\"Time\": \"2022-05-21T00:30:15\", \"Layer\": \"Dai\", \"Tnx Count\": 36378}, {\"Time\": \"2022-05-22T00:30:15\", \"Layer\": \"Dai\", \"Tnx Count\": 34603}, {\"Time\": \"2022-05-23T00:30:15\", \"Layer\": \"Dai\", \"Tnx Count\": 32736}, {\"Time\": \"2022-05-24T00:30:15\", \"Layer\": \"Dai\", \"Tnx Count\": 31336}, {\"Time\": \"2022-05-25T00:30:15\", \"Layer\": \"Dai\", \"Tnx Count\": 30640}, {\"Time\": \"2022-04-29T00:30:15\", \"Layer\": \"USDP\", \"Tnx Count\": 236}, {\"Time\": \"2022-04-30T00:30:15\", \"Layer\": \"USDP\", \"Tnx Count\": 406}, {\"Time\": \"2022-05-01T00:30:15\", \"Layer\": \"USDP\", \"Tnx Count\": 485}, {\"Time\": \"2022-05-02T00:30:15\", \"Layer\": \"USDP\", \"Tnx Count\": 566}, {\"Time\": \"2022-05-03T00:30:15\", \"Layer\": \"USDP\", \"Tnx Count\": 694}, {\"Time\": \"2022-05-04T00:30:15\", \"Layer\": \"USDP\", \"Tnx Count\": 826}, {\"Time\": \"2022-05-05T00:30:15\", \"Layer\": \"USDP\", \"Tnx Count\": 933}, {\"Time\": \"2022-05-06T00:30:15\", \"Layer\": \"USDP\", \"Tnx Count\": 883}, {\"Time\": \"2022-05-07T00:30:15\", \"Layer\": \"USDP\", \"Tnx Count\": 868}, {\"Time\": \"2022-05-08T00:30:15\", \"Layer\": \"USDP\", \"Tnx Count\": 879}, {\"Time\": \"2022-05-09T00:30:15\", \"Layer\": \"USDP\", \"Tnx Count\": 911}, {\"Time\": \"2022-05-10T00:30:15\", \"Layer\": \"USDP\", \"Tnx Count\": 993}, {\"Time\": \"2022-05-11T00:30:15\", \"Layer\": \"USDP\", \"Tnx Count\": 1115}, {\"Time\": \"2022-05-12T00:30:15\", \"Layer\": \"USDP\", \"Tnx Count\": 1281}, {\"Time\": \"2022-05-13T00:30:15\", \"Layer\": \"USDP\", \"Tnx Count\": 1619}, {\"Time\": \"2022-05-14T00:30:15\", \"Layer\": \"USDP\", \"Tnx Count\": 1786}, {\"Time\": \"2022-05-15T00:30:15\", \"Layer\": \"USDP\", \"Tnx Count\": 1854}, {\"Time\": \"2022-05-16T00:30:15\", \"Layer\": \"USDP\", \"Tnx Count\": 1999}, {\"Time\": \"2022-05-17T00:30:15\", \"Layer\": \"USDP\", \"Tnx Count\": 1992}, {\"Time\": \"2022-05-18T00:30:15\", \"Layer\": \"USDP\", \"Tnx Count\": 1965}, {\"Time\": \"2022-05-19T00:30:15\", \"Layer\": \"USDP\", \"Tnx Count\": 1876}, {\"Time\": \"2022-05-20T00:30:15\", \"Layer\": \"USDP\", \"Tnx Count\": 1646}, {\"Time\": \"2022-05-21T00:30:15\", \"Layer\": \"USDP\", \"Tnx Count\": 1476}, {\"Time\": \"2022-05-22T00:30:15\", \"Layer\": \"USDP\", \"Tnx Count\": 1412}, {\"Time\": \"2022-05-23T00:30:15\", \"Layer\": \"USDP\", \"Tnx Count\": 1310}, {\"Time\": \"2022-05-24T00:30:15\", \"Layer\": \"USDP\", \"Tnx Count\": 1372}, {\"Time\": \"2022-05-25T00:30:15\", \"Layer\": \"USDP\", \"Tnx Count\": 1304}, {\"Time\": \"2022-04-29T00:30:15\", \"Layer\": \"USTC\", \"Tnx Count\": 1207}, {\"Time\": \"2022-04-30T00:30:15\", \"Layer\": \"USTC\", \"Tnx Count\": 2231}, {\"Time\": \"2022-05-01T00:30:15\", \"Layer\": \"USTC\", \"Tnx Count\": 3195}, {\"Time\": \"2022-05-02T00:30:15\", \"Layer\": \"USTC\", \"Tnx Count\": 3921}, {\"Time\": \"2022-05-03T00:30:15\", \"Layer\": \"USTC\", \"Tnx Count\": 4770}, {\"Time\": \"2022-05-04T00:30:15\", \"Layer\": \"USTC\", \"Tnx Count\": 5671}, {\"Time\": \"2022-05-05T00:30:15\", \"Layer\": \"USTC\", \"Tnx Count\": 6553}, {\"Time\": \"2022-05-06T00:30:15\", \"Layer\": \"USTC\", \"Tnx Count\": 6389}, {\"Time\": \"2022-05-07T00:30:15\", \"Layer\": \"USTC\", \"Tnx Count\": 6366}, {\"Time\": \"2022-05-08T00:30:15\", \"Layer\": \"USTC\", \"Tnx Count\": 6911}, {\"Time\": \"2022-05-09T00:30:15\", \"Layer\": \"USTC\", \"Tnx Count\": 7719}, {\"Time\": \"2022-05-10T00:30:15\", \"Layer\": \"USTC\", \"Tnx Count\": 10193}, {\"Time\": \"2022-05-11T00:30:15\", \"Layer\": \"USTC\", \"Tnx Count\": 14799}, {\"Time\": \"2022-05-12T00:30:15\", \"Layer\": \"USTC\", \"Tnx Count\": 19772}, {\"Time\": \"2022-05-13T00:30:15\", \"Layer\": \"USTC\", \"Tnx Count\": 24111}, {\"Time\": \"2022-05-14T00:30:15\", \"Layer\": \"USTC\", \"Tnx Count\": 25941}, {\"Time\": \"2022-05-15T00:30:15\", \"Layer\": \"USTC\", \"Tnx Count\": 26144}, {\"Time\": \"2022-05-16T00:30:15\", \"Layer\": \"USTC\", \"Tnx Count\": 26053}, {\"Time\": \"2022-05-17T00:30:15\", \"Layer\": \"USTC\", \"Tnx Count\": 24041}, {\"Time\": \"2022-05-18T00:30:15\", \"Layer\": \"USTC\", \"Tnx Count\": 19525}, {\"Time\": \"2022-05-19T00:30:15\", \"Layer\": \"USTC\", \"Tnx Count\": 14112}, {\"Time\": \"2022-05-20T00:30:15\", \"Layer\": \"USTC\", \"Tnx Count\": 9133}, {\"Time\": \"2022-05-21T00:30:15\", \"Layer\": \"USTC\", \"Tnx Count\": 6717}, {\"Time\": \"2022-05-22T00:30:15\", \"Layer\": \"USTC\", \"Tnx Count\": 5566}, {\"Time\": \"2022-05-23T00:30:15\", \"Layer\": \"USTC\", \"Tnx Count\": 4567}, {\"Time\": \"2022-05-24T00:30:15\", \"Layer\": \"USTC\", \"Tnx Count\": 3940}, {\"Time\": \"2022-05-25T00:30:15\", \"Layer\": \"USTC\", \"Tnx Count\": 4279}], \"data-03a7e27a271f30803a3f9052d97f8a33\": [{\"Time\": \"2022-05-12\", \"event\": \"LUNA Crash\"}]}}, {\"mode\": \"vega-lite\"});\n",
       "</script>"
      ],
      "text/plain": [
       "alt.LayerChart(...)"
      ]
     },
     "execution_count": 18,
     "metadata": {},
     "output_type": "execute_result"
    }
   ],
   "source": [
    "result = pd.DataFrame()\n",
    "all_layers = g.get_unique_layers()\n",
    "avoid_layers = ['USD', 'USDT']\n",
    "layers = set(all_layers) - set(avoid_layers)\n",
    "\n",
    "rolling = g.rolling(step='1 day', window='1 week')\n",
    "for l in layers:\n",
    "    result[l] = [w.layer(l).num_edges() for w in rolling]\n",
    "\n",
    "result['Time'] = [w.end_date_time() for w in rolling]\n",
    "\n",
    "source = pd.melt(result, id_vars=['Time'], value_vars=layers, var_name='Layer', value_name='Tnx Count')\n",
    "selection = alt.selection_multi(fields=['Layer'], bind='legend')\n",
    "chart = alt.Chart(source).mark_line().encode(\n",
    "    x=\"Time:T\",\n",
    "    y=f\"{'Tnx Count'}:Q\",\n",
    "    color=\"Layer\",\n",
    "    tooltip=['Layer', 'Tnx Count'],\n",
    "    opacity=alt.condition(selection, alt.value(1.0), alt.value(0.2))\n",
    ").properties(\n",
    "    width=800,\n",
    ").add_selection(\n",
    "    selection\n",
    ")\n",
    "\n",
    "alt.layer(chart, event_chart)"
   ]
  },
  {
   "cell_type": "code",
   "execution_count": 19,
   "id": "f01a4451-ce19-4b55-b390-b8672eb51d23",
   "metadata": {},
   "outputs": [
    {
     "name": "stderr",
     "output_type": "stream",
     "text": [
      "/data-restricted/home/cheick_ba/.conda/envs/raphtory/lib/python3.10/site-packages/altair/utils/deprecation.py:65: AltairDeprecationWarning: 'add_selection' is deprecated. Use 'add_params' instead.\n",
      "  warnings.warn(message, AltairDeprecationWarning, stacklevel=1)\n"
     ]
    },
    {
     "data": {
      "text/html": [
       "\n",
       "<style>\n",
       "  #altair-viz-401e05d44947411380ac872ef253b517.vega-embed {\n",
       "    width: 100%;\n",
       "    display: flex;\n",
       "  }\n",
       "\n",
       "  #altair-viz-401e05d44947411380ac872ef253b517.vega-embed details,\n",
       "  #altair-viz-401e05d44947411380ac872ef253b517.vega-embed details summary {\n",
       "    position: relative;\n",
       "  }\n",
       "</style>\n",
       "<div id=\"altair-viz-401e05d44947411380ac872ef253b517\"></div>\n",
       "<script type=\"text/javascript\">\n",
       "  var VEGA_DEBUG = (typeof VEGA_DEBUG == \"undefined\") ? {} : VEGA_DEBUG;\n",
       "  (function(spec, embedOpt){\n",
       "    let outputDiv = document.currentScript.previousElementSibling;\n",
       "    if (outputDiv.id !== \"altair-viz-401e05d44947411380ac872ef253b517\") {\n",
       "      outputDiv = document.getElementById(\"altair-viz-401e05d44947411380ac872ef253b517\");\n",
       "    }\n",
       "    const paths = {\n",
       "      \"vega\": \"https://cdn.jsdelivr.net/npm/vega@5?noext\",\n",
       "      \"vega-lib\": \"https://cdn.jsdelivr.net/npm/vega-lib?noext\",\n",
       "      \"vega-lite\": \"https://cdn.jsdelivr.net/npm/vega-lite@5.8.0?noext\",\n",
       "      \"vega-embed\": \"https://cdn.jsdelivr.net/npm/vega-embed@6?noext\",\n",
       "    };\n",
       "\n",
       "    function maybeLoadScript(lib, version) {\n",
       "      var key = `${lib.replace(\"-\", \"\")}_version`;\n",
       "      return (VEGA_DEBUG[key] == version) ?\n",
       "        Promise.resolve(paths[lib]) :\n",
       "        new Promise(function(resolve, reject) {\n",
       "          var s = document.createElement('script');\n",
       "          document.getElementsByTagName(\"head\")[0].appendChild(s);\n",
       "          s.async = true;\n",
       "          s.onload = () => {\n",
       "            VEGA_DEBUG[key] = version;\n",
       "            return resolve(paths[lib]);\n",
       "          };\n",
       "          s.onerror = () => reject(`Error loading script: ${paths[lib]}`);\n",
       "          s.src = paths[lib];\n",
       "        });\n",
       "    }\n",
       "\n",
       "    function showError(err) {\n",
       "      outputDiv.innerHTML = `<div class=\"error\" style=\"color:red;\">${err}</div>`;\n",
       "      throw err;\n",
       "    }\n",
       "\n",
       "    function displayChart(vegaEmbed) {\n",
       "      vegaEmbed(outputDiv, spec, embedOpt)\n",
       "        .catch(err => showError(`Javascript Error: ${err.message}<br>This usually means there's a typo in your chart specification. See the javascript console for the full traceback.`));\n",
       "    }\n",
       "\n",
       "    if(typeof define === \"function\" && define.amd) {\n",
       "      requirejs.config({paths});\n",
       "      require([\"vega-embed\"], displayChart, err => showError(`Error loading script: ${err.message}`));\n",
       "    } else {\n",
       "      maybeLoadScript(\"vega\", \"5\")\n",
       "        .then(() => maybeLoadScript(\"vega-lite\", \"5.8.0\"))\n",
       "        .then(() => maybeLoadScript(\"vega-embed\", \"6\"))\n",
       "        .catch(showError)\n",
       "        .then(() => displayChart(vegaEmbed));\n",
       "    }\n",
       "  })({\"config\": {\"view\": {\"continuousWidth\": 300, \"continuousHeight\": 300}}, \"layer\": [{\"data\": {\"name\": \"data-8e4e58ed3af4d44d39b7cf7b01e7f330\"}, \"mark\": {\"type\": \"line\"}, \"encoding\": {\"x\": {\"field\": \"Time\", \"type\": \"temporal\"}, \"y\": {\"field\": \"Tnx Count\", \"type\": \"quantitative\"}}, \"name\": \"view_3\"}, {\"layer\": [{\"mark\": {\"type\": \"rule\", \"color\": \"gray\"}, \"encoding\": {\"x\": {\"field\": \"Time\", \"type\": \"temporal\"}}}, {\"mark\": {\"type\": \"text\", \"align\": \"left\", \"color\": \"black\", \"dx\": 3, \"dy\": -120}, \"encoding\": {\"text\": {\"field\": \"event\", \"type\": \"nominal\"}, \"x\": {\"field\": \"Time\", \"type\": \"temporal\"}}}], \"data\": {\"name\": \"data-03a7e27a271f30803a3f9052d97f8a33\"}}], \"params\": [{\"name\": \"param_2\", \"select\": {\"type\": \"point\", \"fields\": [\"Layer\"]}, \"bind\": \"legend\", \"views\": [\"view_3\"]}], \"width\": 800, \"$schema\": \"https://vega.github.io/schema/vega-lite/v5.8.0.json\", \"datasets\": {\"data-8e4e58ed3af4d44d39b7cf7b01e7f330\": [{\"Tnx Count\": 199, \"Time\": \"2022-04-29T00:30:15\"}, {\"Tnx Count\": 432, \"Time\": \"2022-04-30T00:30:15\"}, {\"Tnx Count\": 621, \"Time\": \"2022-05-01T00:30:15\"}, {\"Tnx Count\": 789, \"Time\": \"2022-05-02T00:30:15\"}, {\"Tnx Count\": 936, \"Time\": \"2022-05-03T00:30:15\"}, {\"Tnx Count\": 1101, \"Time\": \"2022-05-04T00:30:15\"}, {\"Tnx Count\": 1284, \"Time\": \"2022-05-05T00:30:15\"}, {\"Tnx Count\": 1418, \"Time\": \"2022-05-06T00:30:15\"}, {\"Tnx Count\": 1425, \"Time\": \"2022-05-07T00:30:15\"}, {\"Tnx Count\": 1519, \"Time\": \"2022-05-08T00:30:15\"}, {\"Tnx Count\": 1721, \"Time\": \"2022-05-09T00:30:15\"}, {\"Tnx Count\": 2277, \"Time\": \"2022-05-10T00:30:15\"}, {\"Tnx Count\": 4013, \"Time\": \"2022-05-11T00:30:15\"}, {\"Tnx Count\": 8496, \"Time\": \"2022-05-12T00:30:15\"}, {\"Tnx Count\": 13708, \"Time\": \"2022-05-13T00:30:15\"}, {\"Tnx Count\": 20370, \"Time\": \"2022-05-14T00:30:15\"}, {\"Tnx Count\": 33824, \"Time\": \"2022-05-15T00:30:15\"}, {\"Tnx Count\": 42222, \"Time\": \"2022-05-16T00:30:15\"}, {\"Tnx Count\": 45834, \"Time\": \"2022-05-17T00:30:15\"}, {\"Tnx Count\": 46683, \"Time\": \"2022-05-18T00:30:15\"}, {\"Tnx Count\": 45192, \"Time\": \"2022-05-19T00:30:15\"}, {\"Tnx Count\": 41798, \"Time\": \"2022-05-20T00:30:15\"}, {\"Tnx Count\": 37166, \"Time\": \"2022-05-21T00:30:15\"}, {\"Tnx Count\": 26492, \"Time\": \"2022-05-22T00:30:15\"}, {\"Tnx Count\": 19564, \"Time\": \"2022-05-23T00:30:15\"}, {\"Tnx Count\": 17920, \"Time\": \"2022-05-24T00:30:15\"}, {\"Tnx Count\": 18134, \"Time\": \"2022-05-25T00:30:15\"}], \"data-03a7e27a271f30803a3f9052d97f8a33\": [{\"Time\": \"2022-05-12\", \"event\": \"LUNA Crash\"}]}}, {\"mode\": \"vega-lite\"});\n",
       "</script>"
      ],
      "text/plain": [
       "alt.LayerChart(...)"
      ]
     },
     "execution_count": 19,
     "metadata": {},
     "output_type": "execute_result"
    }
   ],
   "source": [
    "result = pd.DataFrame()\n",
    "\n",
    "rolling = g.rolling(step='1 day', window='1 week')\n",
    "\n",
    "result['Tnx Count'] = [w.layer('LUNC').num_edges() for w in rolling]\n",
    "result['Time'] = [w.layer('LUNC').end_date_time() for w in rolling]\n",
    "\n",
    "chart = alt.Chart(result).mark_line().encode(\n",
    "    x=\"Time:T\",\n",
    "    y=\"Tnx Count:Q\",\n",
    ").properties(\n",
    "    width=800,\n",
    ").add_selection(\n",
    "    selection\n",
    ")\n",
    "\n",
    "alt.layer(chart, event_chart)"
   ]
  },
  {
   "cell_type": "code",
   "execution_count": 23,
   "id": "13a838e2-d296-4d30-aedb-2fbac243f56a",
   "metadata": {},
   "outputs": [
    {
     "name": "stdout",
     "output_type": "stream",
     "text": [
      "Done running iterations: 1\n",
      "Done running iterations: 1\n",
      "Done running iterations: 1\n",
      "Done running iterations: 1\n",
      "Done running iterations: 1\n",
      "Done running iterations: 1\n",
      "Done running iterations: 1\n"
     ]
    },
    {
     "name": "stderr",
     "output_type": "stream",
     "text": [
      "thread '<unnamed>' panicked at 'index out of bounds: the len is 434423 but the index is 434423', /data-restricted/home/cheick_ba/src/raphtory/raphtory/src/db/task/task_runner.rs:214:13\n"
     ]
    },
    {
     "ename": "PanicException",
     "evalue": "index out of bounds: the len is 434423 but the index is 434423",
     "output_type": "error",
     "traceback": [
      "\u001b[0;31m---------------------------------------------------------------------------\u001b[0m",
      "\u001b[0;31mPanicException\u001b[0m                            Traceback (most recent call last)",
      "Cell \u001b[0;32mIn[23], line 2\u001b[0m\n\u001b[1;32m      1\u001b[0m \u001b[38;5;28;01mfor\u001b[39;00m w \u001b[38;5;129;01min\u001b[39;00m rolling:\n\u001b[0;32m----> 2\u001b[0m     \u001b[43malgorithms\u001b[49m\u001b[38;5;241;43m.\u001b[39;49m\u001b[43mpagerank\u001b[49m\u001b[43m(\u001b[49m\u001b[43mw\u001b[49m\u001b[38;5;241;43m.\u001b[39;49m\u001b[43mlayer\u001b[49m\u001b[43m(\u001b[49m\u001b[38;5;124;43m'\u001b[39;49m\u001b[38;5;124;43mLUNC\u001b[39;49m\u001b[38;5;124;43m'\u001b[39;49m\u001b[43m)\u001b[49m\u001b[43m,\u001b[49m\u001b[43m \u001b[49m\u001b[38;5;241;43m20\u001b[39;49m\u001b[43m)\u001b[49m[\u001b[38;5;124m\"\u001b[39m\u001b[38;5;124m0xd30b438df65f4f788563b2b3611bd6059bff4ad9\u001b[39m\u001b[38;5;124m\"\u001b[39m] \n",
      "\u001b[0;31mPanicException\u001b[0m: index out of bounds: the len is 434423 but the index is 434423"
     ]
    }
   ],
   "source": [
    "for w in rolling:\n",
    "    algorithms.pagerank(w.layer('LUNC'), 20)[\"0xd30b438df65f4f788563b2b3611bd6059bff4ad9\"] "
   ]
  },
  {
   "cell_type": "code",
   "execution_count": 31,
   "id": "f11ed85d-c7d6-4547-ac8b-eb661a710b2b",
   "metadata": {},
   "outputs": [
    {
     "name": "stdout",
     "output_type": "stream",
     "text": [
      "Graph(number_of_edges=698767, number_of_vertices=434423, earliest_time=1651192215000, latest_time=1651797015000)\n"
     ]
    }
   ],
   "source": [
    "print(w)"
   ]
  },
  {
   "cell_type": "code",
   "execution_count": 30,
   "id": "1f00213a-b866-4fe7-a5ef-1749d6924761",
   "metadata": {},
   "outputs": [
    {
     "name": "stderr",
     "output_type": "stream",
     "text": [
      "thread '<unnamed>' panicked at 'index out of bounds: the len is 434423 but the index is 434423', /data-restricted/home/cheick_ba/src/raphtory/raphtory/src/db/task/task_runner.rs:214:13\n"
     ]
    },
    {
     "ename": "PanicException",
     "evalue": "index out of bounds: the len is 434423 but the index is 434423",
     "output_type": "error",
     "traceback": [
      "\u001b[0;31m---------------------------------------------------------------------------\u001b[0m",
      "\u001b[0;31mPanicException\u001b[0m                            Traceback (most recent call last)",
      "Cell \u001b[0;32mIn[30], line 1\u001b[0m\n\u001b[0;32m----> 1\u001b[0m pr \u001b[38;5;241m=\u001b[39m \u001b[43malgorithms\u001b[49m\u001b[38;5;241;43m.\u001b[39;49m\u001b[43mpagerank\u001b[49m\u001b[43m(\u001b[49m\u001b[43mw\u001b[49m\u001b[43m,\u001b[49m\u001b[43m \u001b[49m\u001b[38;5;241;43m20\u001b[39;49m\u001b[43m)\u001b[49m\n",
      "\u001b[0;31mPanicException\u001b[0m: index out of bounds: the len is 434423 but the index is 434423"
     ]
    }
   ],
   "source": [
    "pr = algorithms.pagerank(w, 20)"
   ]
  },
  {
   "cell_type": "code",
   "execution_count": 20,
   "id": "108d9ba5-315f-404f-a371-b893b5e86963",
   "metadata": {},
   "outputs": [
    {
     "name": "stdout",
     "output_type": "stream",
     "text": [
      "Done running iterations: 1\n",
      "Done running iterations: 1\n",
      "Done running iterations: 1\n",
      "Done running iterations: 1\n",
      "Done running iterations: 1\n",
      "Done running iterations: 1\n",
      "Done running iterations: 1\n"
     ]
    },
    {
     "name": "stderr",
     "output_type": "stream",
     "text": [
      "thread '<unnamed>' panicked at 'index out of bounds: the len is 434423 but the index is 434423', /data-restricted/home/cheick_ba/src/raphtory/raphtory/src/db/task/task_runner.rs:214:13\n",
      "note: run with `RUST_BACKTRACE=1` environment variable to display a backtrace\n"
     ]
    },
    {
     "ename": "PanicException",
     "evalue": "index out of bounds: the len is 434423 but the index is 434423",
     "output_type": "error",
     "traceback": [
      "\u001b[0;31m---------------------------------------------------------------------------\u001b[0m",
      "\u001b[0;31mPanicException\u001b[0m                            Traceback (most recent call last)",
      "Cell \u001b[0;32mIn[20], line 5\u001b[0m\n\u001b[1;32m      1\u001b[0m result \u001b[38;5;241m=\u001b[39m pd\u001b[38;5;241m.\u001b[39mDataFrame()\n\u001b[1;32m      3\u001b[0m rolling \u001b[38;5;241m=\u001b[39m g\u001b[38;5;241m.\u001b[39mrolling(step\u001b[38;5;241m=\u001b[39m\u001b[38;5;124m'\u001b[39m\u001b[38;5;124m1 day\u001b[39m\u001b[38;5;124m'\u001b[39m, window\u001b[38;5;241m=\u001b[39m\u001b[38;5;124m'\u001b[39m\u001b[38;5;124m1 week\u001b[39m\u001b[38;5;124m'\u001b[39m)\n\u001b[0;32m----> 5\u001b[0m result[\u001b[38;5;124m'\u001b[39m\u001b[38;5;124mPage Rank\u001b[39m\u001b[38;5;124m'\u001b[39m] \u001b[38;5;241m=\u001b[39m [algorithms\u001b[38;5;241m.\u001b[39mpagerank(w\u001b[38;5;241m.\u001b[39mlayer(\u001b[38;5;124m'\u001b[39m\u001b[38;5;124mLUNC\u001b[39m\u001b[38;5;124m'\u001b[39m), \u001b[38;5;241m20\u001b[39m)[\u001b[38;5;124m\"\u001b[39m\u001b[38;5;124m0xd30b438df65f4f788563b2b3611bd6059bff4ad9\u001b[39m\u001b[38;5;124m\"\u001b[39m] \u001b[38;5;28;01mfor\u001b[39;00m w \u001b[38;5;129;01min\u001b[39;00m rolling]\n\u001b[1;32m      6\u001b[0m result[\u001b[38;5;124m'\u001b[39m\u001b[38;5;124mTime\u001b[39m\u001b[38;5;124m'\u001b[39m] \u001b[38;5;241m=\u001b[39m [w\u001b[38;5;241m.\u001b[39mlayer(\u001b[38;5;124m'\u001b[39m\u001b[38;5;124mLUNC\u001b[39m\u001b[38;5;124m'\u001b[39m)\u001b[38;5;241m.\u001b[39mend_date_time() \u001b[38;5;28;01mfor\u001b[39;00m w \u001b[38;5;129;01min\u001b[39;00m rolling]\n\u001b[1;32m      8\u001b[0m chart \u001b[38;5;241m=\u001b[39m alt\u001b[38;5;241m.\u001b[39mChart(result)\u001b[38;5;241m.\u001b[39mmark_line()\u001b[38;5;241m.\u001b[39mencode(\n\u001b[1;32m      9\u001b[0m     x\u001b[38;5;241m=\u001b[39m\u001b[38;5;124m\"\u001b[39m\u001b[38;5;124mTime:T\u001b[39m\u001b[38;5;124m\"\u001b[39m,\n\u001b[1;32m     10\u001b[0m     y\u001b[38;5;241m=\u001b[39m\u001b[38;5;124m\"\u001b[39m\u001b[38;5;124mPage Rank:Q\u001b[39m\u001b[38;5;124m\"\u001b[39m,\n\u001b[1;32m     11\u001b[0m )\u001b[38;5;241m.\u001b[39mproperties(\n\u001b[1;32m     12\u001b[0m     width\u001b[38;5;241m=\u001b[39m\u001b[38;5;241m800\u001b[39m,\n\u001b[1;32m     13\u001b[0m )\n",
      "Cell \u001b[0;32mIn[20], line 5\u001b[0m, in \u001b[0;36m<listcomp>\u001b[0;34m(.0)\u001b[0m\n\u001b[1;32m      1\u001b[0m result \u001b[38;5;241m=\u001b[39m pd\u001b[38;5;241m.\u001b[39mDataFrame()\n\u001b[1;32m      3\u001b[0m rolling \u001b[38;5;241m=\u001b[39m g\u001b[38;5;241m.\u001b[39mrolling(step\u001b[38;5;241m=\u001b[39m\u001b[38;5;124m'\u001b[39m\u001b[38;5;124m1 day\u001b[39m\u001b[38;5;124m'\u001b[39m, window\u001b[38;5;241m=\u001b[39m\u001b[38;5;124m'\u001b[39m\u001b[38;5;124m1 week\u001b[39m\u001b[38;5;124m'\u001b[39m)\n\u001b[0;32m----> 5\u001b[0m result[\u001b[38;5;124m'\u001b[39m\u001b[38;5;124mPage Rank\u001b[39m\u001b[38;5;124m'\u001b[39m] \u001b[38;5;241m=\u001b[39m [\u001b[43malgorithms\u001b[49m\u001b[38;5;241;43m.\u001b[39;49m\u001b[43mpagerank\u001b[49m\u001b[43m(\u001b[49m\u001b[43mw\u001b[49m\u001b[38;5;241;43m.\u001b[39;49m\u001b[43mlayer\u001b[49m\u001b[43m(\u001b[49m\u001b[38;5;124;43m'\u001b[39;49m\u001b[38;5;124;43mLUNC\u001b[39;49m\u001b[38;5;124;43m'\u001b[39;49m\u001b[43m)\u001b[49m\u001b[43m,\u001b[49m\u001b[43m \u001b[49m\u001b[38;5;241;43m20\u001b[39;49m\u001b[43m)\u001b[49m[\u001b[38;5;124m\"\u001b[39m\u001b[38;5;124m0xd30b438df65f4f788563b2b3611bd6059bff4ad9\u001b[39m\u001b[38;5;124m\"\u001b[39m] \u001b[38;5;28;01mfor\u001b[39;00m w \u001b[38;5;129;01min\u001b[39;00m rolling]\n\u001b[1;32m      6\u001b[0m result[\u001b[38;5;124m'\u001b[39m\u001b[38;5;124mTime\u001b[39m\u001b[38;5;124m'\u001b[39m] \u001b[38;5;241m=\u001b[39m [w\u001b[38;5;241m.\u001b[39mlayer(\u001b[38;5;124m'\u001b[39m\u001b[38;5;124mLUNC\u001b[39m\u001b[38;5;124m'\u001b[39m)\u001b[38;5;241m.\u001b[39mend_date_time() \u001b[38;5;28;01mfor\u001b[39;00m w \u001b[38;5;129;01min\u001b[39;00m rolling]\n\u001b[1;32m      8\u001b[0m chart \u001b[38;5;241m=\u001b[39m alt\u001b[38;5;241m.\u001b[39mChart(result)\u001b[38;5;241m.\u001b[39mmark_line()\u001b[38;5;241m.\u001b[39mencode(\n\u001b[1;32m      9\u001b[0m     x\u001b[38;5;241m=\u001b[39m\u001b[38;5;124m\"\u001b[39m\u001b[38;5;124mTime:T\u001b[39m\u001b[38;5;124m\"\u001b[39m,\n\u001b[1;32m     10\u001b[0m     y\u001b[38;5;241m=\u001b[39m\u001b[38;5;124m\"\u001b[39m\u001b[38;5;124mPage Rank:Q\u001b[39m\u001b[38;5;124m\"\u001b[39m,\n\u001b[1;32m     11\u001b[0m )\u001b[38;5;241m.\u001b[39mproperties(\n\u001b[1;32m     12\u001b[0m     width\u001b[38;5;241m=\u001b[39m\u001b[38;5;241m800\u001b[39m,\n\u001b[1;32m     13\u001b[0m )\n",
      "\u001b[0;31mPanicException\u001b[0m: index out of bounds: the len is 434423 but the index is 434423"
     ]
    }
   ],
   "source": [
    "result = pd.DataFrame()\n",
    "\n",
    "rolling = g.rolling(step='1 day', window='1 week')\n",
    "\n",
    "result['Page Rank'] = [algorithms.pagerank(w.layer('LUNC'), 20)[\"0xd30b438df65f4f788563b2b3611bd6059bff4ad9\"] for w in rolling]\n",
    "result['Time'] = [w.layer('LUNC').end_date_time() for w in rolling]\n",
    "\n",
    "chart = alt.Chart(result).mark_line().encode(\n",
    "    x=\"Time:T\",\n",
    "    y=\"Page Rank:Q\",\n",
    ").properties(\n",
    "    width=800,\n",
    ")\n",
    "\n",
    "alt.layer(chart, event_chart)"
   ]
  },
  {
   "cell_type": "code",
   "execution_count": 21,
   "id": "0111d335-6ad6-4153-bcee-2e9f6da37692",
   "metadata": {},
   "outputs": [
    {
     "name": "stdout",
     "output_type": "stream",
     "text": [
      "Done running iterations: 1\n",
      "Done running iterations: 1\n",
      "Done running iterations: 1\n",
      "Done running iterations: 1\n",
      "Done running iterations: 1\n",
      "Done running iterations: 1\n",
      "Done running iterations: 1\n"
     ]
    },
    {
     "name": "stderr",
     "output_type": "stream",
     "text": [
      "thread '<unnamed>' panicked at 'index out of bounds: the len is 434423 but the index is 434423', /data-restricted/home/cheick_ba/src/raphtory/raphtory/src/db/task/task_runner.rs:214:13\n"
     ]
    },
    {
     "ename": "PanicException",
     "evalue": "index out of bounds: the len is 434423 but the index is 434423",
     "output_type": "error",
     "traceback": [
      "\u001b[0;31m---------------------------------------------------------------------------\u001b[0m",
      "\u001b[0;31mPanicException\u001b[0m                            Traceback (most recent call last)",
      "Cell \u001b[0;32mIn[21], line 7\u001b[0m\n\u001b[1;32m      4\u001b[0m rolling \u001b[38;5;241m=\u001b[39m g\u001b[38;5;241m.\u001b[39mrolling(step\u001b[38;5;241m=\u001b[39m\u001b[38;5;124m'\u001b[39m\u001b[38;5;124m1 day\u001b[39m\u001b[38;5;124m'\u001b[39m, window\u001b[38;5;241m=\u001b[39m\u001b[38;5;124m'\u001b[39m\u001b[38;5;124m1 week\u001b[39m\u001b[38;5;124m'\u001b[39m)\n\u001b[1;32m      6\u001b[0m \u001b[38;5;28;01mfor\u001b[39;00m l \u001b[38;5;129;01min\u001b[39;00m layers:\n\u001b[0;32m----> 7\u001b[0m     result[l] \u001b[38;5;241m=\u001b[39m [algorithms\u001b[38;5;241m.\u001b[39mpagerank(w\u001b[38;5;241m.\u001b[39mlayer(l), \u001b[38;5;241m20\u001b[39m)[\u001b[38;5;124m\"\u001b[39m\u001b[38;5;124m0x503828976d22510aad0201ac7ec88293211d23da\u001b[39m\u001b[38;5;124m\"\u001b[39m] \u001b[38;5;28;01mfor\u001b[39;00m w \u001b[38;5;129;01min\u001b[39;00m rolling]\n\u001b[1;32m      9\u001b[0m result[\u001b[38;5;124m'\u001b[39m\u001b[38;5;124mTime\u001b[39m\u001b[38;5;124m'\u001b[39m] \u001b[38;5;241m=\u001b[39m [w\u001b[38;5;241m.\u001b[39mend_date_time() \u001b[38;5;28;01mfor\u001b[39;00m w \u001b[38;5;129;01min\u001b[39;00m rolling]\n\u001b[1;32m     11\u001b[0m source \u001b[38;5;241m=\u001b[39m pd\u001b[38;5;241m.\u001b[39mmelt(result, id_vars\u001b[38;5;241m=\u001b[39m[\u001b[38;5;124m'\u001b[39m\u001b[38;5;124mTime\u001b[39m\u001b[38;5;124m'\u001b[39m], value_vars\u001b[38;5;241m=\u001b[39mlayers, var_name\u001b[38;5;241m=\u001b[39m\u001b[38;5;124m'\u001b[39m\u001b[38;5;124mLayer\u001b[39m\u001b[38;5;124m'\u001b[39m, value_name\u001b[38;5;241m=\u001b[39m\u001b[38;5;124m'\u001b[39m\u001b[38;5;124mPage Rank\u001b[39m\u001b[38;5;124m'\u001b[39m)\n",
      "Cell \u001b[0;32mIn[21], line 7\u001b[0m, in \u001b[0;36m<listcomp>\u001b[0;34m(.0)\u001b[0m\n\u001b[1;32m      4\u001b[0m rolling \u001b[38;5;241m=\u001b[39m g\u001b[38;5;241m.\u001b[39mrolling(step\u001b[38;5;241m=\u001b[39m\u001b[38;5;124m'\u001b[39m\u001b[38;5;124m1 day\u001b[39m\u001b[38;5;124m'\u001b[39m, window\u001b[38;5;241m=\u001b[39m\u001b[38;5;124m'\u001b[39m\u001b[38;5;124m1 week\u001b[39m\u001b[38;5;124m'\u001b[39m)\n\u001b[1;32m      6\u001b[0m \u001b[38;5;28;01mfor\u001b[39;00m l \u001b[38;5;129;01min\u001b[39;00m layers:\n\u001b[0;32m----> 7\u001b[0m     result[l] \u001b[38;5;241m=\u001b[39m [\u001b[43malgorithms\u001b[49m\u001b[38;5;241;43m.\u001b[39;49m\u001b[43mpagerank\u001b[49m\u001b[43m(\u001b[49m\u001b[43mw\u001b[49m\u001b[38;5;241;43m.\u001b[39;49m\u001b[43mlayer\u001b[49m\u001b[43m(\u001b[49m\u001b[43ml\u001b[49m\u001b[43m)\u001b[49m\u001b[43m,\u001b[49m\u001b[43m \u001b[49m\u001b[38;5;241;43m20\u001b[39;49m\u001b[43m)\u001b[49m[\u001b[38;5;124m\"\u001b[39m\u001b[38;5;124m0x503828976d22510aad0201ac7ec88293211d23da\u001b[39m\u001b[38;5;124m\"\u001b[39m] \u001b[38;5;28;01mfor\u001b[39;00m w \u001b[38;5;129;01min\u001b[39;00m rolling]\n\u001b[1;32m      9\u001b[0m result[\u001b[38;5;124m'\u001b[39m\u001b[38;5;124mTime\u001b[39m\u001b[38;5;124m'\u001b[39m] \u001b[38;5;241m=\u001b[39m [w\u001b[38;5;241m.\u001b[39mend_date_time() \u001b[38;5;28;01mfor\u001b[39;00m w \u001b[38;5;129;01min\u001b[39;00m rolling]\n\u001b[1;32m     11\u001b[0m source \u001b[38;5;241m=\u001b[39m pd\u001b[38;5;241m.\u001b[39mmelt(result, id_vars\u001b[38;5;241m=\u001b[39m[\u001b[38;5;124m'\u001b[39m\u001b[38;5;124mTime\u001b[39m\u001b[38;5;124m'\u001b[39m], value_vars\u001b[38;5;241m=\u001b[39mlayers, var_name\u001b[38;5;241m=\u001b[39m\u001b[38;5;124m'\u001b[39m\u001b[38;5;124mLayer\u001b[39m\u001b[38;5;124m'\u001b[39m, value_name\u001b[38;5;241m=\u001b[39m\u001b[38;5;124m'\u001b[39m\u001b[38;5;124mPage Rank\u001b[39m\u001b[38;5;124m'\u001b[39m)\n",
      "\u001b[0;31mPanicException\u001b[0m: index out of bounds: the len is 434423 but the index is 434423"
     ]
    }
   ],
   "source": [
    "result = pd.DataFrame()\n",
    "\n",
    "layers = g.get_unique_layers()\n",
    "rolling = g.rolling(step='1 day', window='1 week')\n",
    "\n",
    "for l in layers:\n",
    "    result[l] = [algorithms.pagerank(w.layer(l), 20)[\"0x503828976d22510aad0201ac7ec88293211d23da\"] for w in rolling]\n",
    "\n",
    "result['Time'] = [w.end_date_time() for w in rolling]\n",
    "\n",
    "source = pd.melt(result, id_vars=['Time'], value_vars=layers, var_name='Layer', value_name='Page Rank')\n",
    "selection = alt.selection_multi(fields=['Layer'], bind='legend')\n",
    "\n",
    "chart = alt.Chart(source).mark_line().encode(\n",
    "    x=\"Time:T\",\n",
    "    y=f\"{'Page Rank'}:Q\",\n",
    "    color=\"Layer\",\n",
    "    tooltip=['Layer', 'Page Rank'],\n",
    "    opacity=alt.condition(selection, alt.value(1.0), alt.value(0.2))\n",
    ").properties(\n",
    "    width=800,\n",
    ").add_selection(\n",
    "    selection\n",
    ")\n",
    "\n",
    "alt.layer(chart, event_chart)"
   ]
  },
  {
   "cell_type": "code",
   "execution_count": null,
   "id": "5cb56ee1-9ef1-4c9f-b67a-90907ee767df",
   "metadata": {},
   "outputs": [],
   "source": []
  }
 ],
 "metadata": {
  "kernelspec": {
   "display_name": "raphtory",
   "language": "python",
   "name": "raphtory"
  },
  "language_info": {
   "codemirror_mode": {
    "name": "ipython",
    "version": 3
   },
   "file_extension": ".py",
   "mimetype": "text/x-python",
   "name": "python",
   "nbconvert_exporter": "python",
   "pygments_lexer": "ipython3",
   "version": "3.10.11"
  }
 },
 "nbformat": 4,
 "nbformat_minor": 5
}
